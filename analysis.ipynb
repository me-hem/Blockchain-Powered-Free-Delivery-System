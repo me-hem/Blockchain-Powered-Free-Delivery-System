{
 "cells": [
  {
   "cell_type": "code",
   "execution_count": 55,
   "metadata": {},
   "outputs": [],
   "source": [
    "import json\n",
    "\n",
    "with open(\"/home/ethereum/Downloads/ResearchData/chain/chain50k.json\") as file:\n",
    "    blockchain = json.load(file)"
   ]
  },
  {
   "cell_type": "code",
   "execution_count": 56,
   "metadata": {},
   "outputs": [
    {
     "name": "stdout",
     "output_type": "stream",
     "text": [
      "{'index': 0, 'transactions': [], 'timestamp': 0, 'previous_hash': '0', 'nonce': 0, 'hash': '6dbf23122cb5046cc5c0c1b245c75f8e43c59ca8ffeac292715e5078e631d0c9'}\n",
      "{'index': 419, 'transactions': [{'o_orderkey': '199940', 'o_custkey': '4729', 'o_totalprice': '249172.41', 'o_orderdate': '1994-06-21', 'o_freedelivery': 'True', 'timestamp': 1696926409.4410195}, {'o_orderkey': '199941', 'o_custkey': '2971', 'o_totalprice': '159375.56', 'o_orderdate': '1997-10-10', 'o_freedelivery': 'False', 'timestamp': 1696926409.8174512}, {'o_orderkey': '199942', 'o_custkey': '4738', 'o_totalprice': '197269.48', 'o_orderdate': '1996-03-27', 'o_freedelivery': 'False', 'timestamp': 1696926410.1698632}, {'o_orderkey': '199943', 'o_custkey': '416', 'o_totalprice': '182962.28', 'o_orderdate': '1997-04-22', 'o_freedelivery': 'False', 'timestamp': 1696926410.564272}, {'o_orderkey': '199968', 'o_custkey': '3500', 'o_totalprice': '253168.41', 'o_orderdate': '1993-04-08', 'o_freedelivery': 'True', 'timestamp': 1696926410.9618661}, {'o_orderkey': '199969', 'o_custkey': '3491', 'o_totalprice': '132327.25', 'o_orderdate': '1992-07-09', 'o_freedelivery': 'False', 'timestamp': 1696926411.3332543}, {'o_orderkey': '199970', 'o_custkey': '3050', 'o_totalprice': '249206.58', 'o_orderdate': '1997-08-06', 'o_freedelivery': 'True', 'timestamp': 1696926411.7169275}, {'o_orderkey': '199971', 'o_custkey': '443', 'o_totalprice': '91346.27', 'o_orderdate': '1995-02-18', 'o_freedelivery': 'False', 'timestamp': 1696926412.1060286}, {'o_orderkey': '199972', 'o_custkey': '2239', 'o_totalprice': '440169.35', 'o_orderdate': '1995-08-17', 'o_freedelivery': 'True', 'timestamp': 1696926412.4632328}, {'o_orderkey': '199973', 'o_custkey': '4297', 'o_totalprice': '43403.19', 'o_orderdate': '1998-03-24', 'o_freedelivery': 'False', 'timestamp': 1696926412.8648772}, {'o_orderkey': '199974', 'o_custkey': '232', 'o_totalprice': '85563.36', 'o_orderdate': '1995-03-20', 'o_freedelivery': 'False', 'timestamp': 1696926413.2465577}, {'o_orderkey': '199975', 'o_custkey': '2920', 'o_totalprice': '134078.51', 'o_orderdate': '1995-03-06', 'o_freedelivery': 'False', 'timestamp': 1696926413.604338}, {'o_orderkey': '200000', 'o_custkey': '1262', 'o_totalprice': '92897.09', 'o_orderdate': '1993-05-15', 'o_freedelivery': 'False', 'timestamp': 1696926413.9876046}], 'timestamp': 1696926429.4579053, 'previous_hash': '0fc99e49141818ef134aded428a2ccb0a39fe953cae9a5ff151dab56ac462352', 'nonce': 10, 'hash': '08646fcf4dc5007dc331ddc219e9a61166c64540dff81978a57bb4f9e2562732'}\n"
     ]
    }
   ],
   "source": [
    "print(blockchain[\"chain\"][0])\n",
    "print(blockchain[\"chain\"][-1])"
   ]
  },
  {
   "cell_type": "code",
   "execution_count": 74,
   "metadata": {},
   "outputs": [
    {
     "name": "stdout",
     "output_type": "stream",
     "text": [
      "48109\n"
     ]
    }
   ],
   "source": [
    "length = 0\n",
    "for i in range(1, blockchain[\"length\"]):\n",
    "    length += len(blockchain[\"chain\"][i][\"transactions\"])\n",
    "print(length)"
   ]
  },
  {
   "cell_type": "code",
   "execution_count": 77,
   "metadata": {},
   "outputs": [
    {
     "name": "stdout",
     "output_type": "stream",
     "text": [
      "{'o_orderkey': '124128', 'o_custkey': '5095', 'o_totalprice': '48311.87', 'o_orderdate': '1995-12-04', 'o_freedelivery': 'False', 'timestamp': 1696920957.8459787}\n"
     ]
    }
   ],
   "source": [
    "for block_no in range(1, blockchain[\"length\"]):\n",
    "    for tx in blockchain[\"chain\"][block_no][\"transactions\"]:\n",
    "        if tx[\"o_orderkey\"] == \"124128\":\n",
    "            print(tx)"
   ]
  },
  {
   "cell_type": "code",
   "execution_count": 75,
   "metadata": {},
   "outputs": [],
   "source": [
    "total_free = 0\n",
    "count_tx = 0\n",
    "orders = []\n",
    "insights = {\"type\": \"Chain\"}\n",
    "for block_no in range(1, blockchain[\"length\"]):\n",
    "    for tx in blockchain[\"chain\"][block_no][\"transactions\"]:\n",
    "        if tx[\"o_freedelivery\"] == \"True\":\n",
    "            total_free += 1\n",
    "        count_tx += 1\n",
    "        orders.append(tx[\"o_orderkey\"])\n",
    "insights[count_tx] = total_free\n"
   ]
  },
  {
   "cell_type": "code",
   "execution_count": 76,
   "metadata": {},
   "outputs": [
    {
     "name": "stdout",
     "output_type": "stream",
     "text": [
      "{'type': 'Chain', 48109: 12040}\n"
     ]
    }
   ],
   "source": [
    "\n",
    "print(insights)"
   ]
  },
  {
   "cell_type": "code",
   "execution_count": 18,
   "metadata": {},
   "outputs": [],
   "source": [
    "with open(\"/home/ethereum/Downloads/ResearchData/insights.json\") as naivefile:\n",
    "    data = json.load(naivefile)"
   ]
  },
  {
   "cell_type": "code",
   "execution_count": 19,
   "metadata": {},
   "outputs": [],
   "source": [
    "data.append(insights)"
   ]
  },
  {
   "cell_type": "code",
   "execution_count": 52,
   "metadata": {},
   "outputs": [
    {
     "data": {
      "text/html": [
       "<div>\n",
       "<style scoped>\n",
       "    .dataframe tbody tr th:only-of-type {\n",
       "        vertical-align: middle;\n",
       "    }\n",
       "\n",
       "    .dataframe tbody tr th {\n",
       "        vertical-align: top;\n",
       "    }\n",
       "\n",
       "    .dataframe thead th {\n",
       "        text-align: right;\n",
       "    }\n",
       "</style>\n",
       "<table border=\"1\" class=\"dataframe\">\n",
       "  <thead>\n",
       "    <tr style=\"text-align: right;\">\n",
       "      <th></th>\n",
       "      <th>o_orderkey</th>\n",
       "      <th>o_custkey</th>\n",
       "      <th>o_totalprice</th>\n",
       "      <th>o_orderdate</th>\n",
       "      <th>o_freedelivery</th>\n",
       "    </tr>\n",
       "  </thead>\n",
       "  <tbody>\n",
       "    <tr>\n",
       "      <th>0</th>\n",
       "      <td>1</td>\n",
       "      <td>259</td>\n",
       "      <td>153389.02</td>\n",
       "      <td>1996-01-02</td>\n",
       "      <td>False</td>\n",
       "    </tr>\n",
       "    <tr>\n",
       "      <th>1</th>\n",
       "      <td>2</td>\n",
       "      <td>547</td>\n",
       "      <td>65625.12</td>\n",
       "      <td>1996-12-01</td>\n",
       "      <td>False</td>\n",
       "    </tr>\n",
       "    <tr>\n",
       "      <th>2</th>\n",
       "      <td>3</td>\n",
       "      <td>865</td>\n",
       "      <td>199896.28</td>\n",
       "      <td>1993-10-14</td>\n",
       "      <td>False</td>\n",
       "    </tr>\n",
       "    <tr>\n",
       "      <th>3</th>\n",
       "      <td>4</td>\n",
       "      <td>958</td>\n",
       "      <td>47695.44</td>\n",
       "      <td>1995-10-11</td>\n",
       "      <td>False</td>\n",
       "    </tr>\n",
       "    <tr>\n",
       "      <th>4</th>\n",
       "      <td>5</td>\n",
       "      <td>313</td>\n",
       "      <td>126697.65</td>\n",
       "      <td>1994-07-30</td>\n",
       "      <td>False</td>\n",
       "    </tr>\n",
       "  </tbody>\n",
       "</table>\n",
       "</div>"
      ],
      "text/plain": [
       "   o_orderkey  o_custkey  o_totalprice o_orderdate  o_freedelivery\n",
       "0           1        259     153389.02  1996-01-02           False\n",
       "1           2        547      65625.12  1996-12-01           False\n",
       "2           3        865     199896.28  1993-10-14           False\n",
       "3           4        958      47695.44  1995-10-11           False\n",
       "4           5        313     126697.65  1994-07-30           False"
      ]
     },
     "execution_count": 52,
     "metadata": {},
     "output_type": "execute_result"
    }
   ],
   "source": [
    "import pandas as pd\n",
    "\n",
    "df = pd.read_csv(\"/home/ethereum/Downloads/ResearchData/naive/naiveOrders50k.csv\")\n",
    "df.head()"
   ]
  },
  {
   "cell_type": "code",
   "execution_count": 53,
   "metadata": {},
   "outputs": [],
   "source": [
    "insights = {\"type\": \"naive\"}\n",
    "total_free = 0\n",
    "count_tx = 0\n",
    "for index in range(df.shape[0]):\n",
    "    if df.iloc[index][\"o_freedelivery\"] == True:\n",
    "        total_free += 1\n",
    "    count_tx += 1\n",
    "\n",
    "insights[count_tx] = total_free\n"
   ]
  },
  {
   "cell_type": "code",
   "execution_count": 54,
   "metadata": {},
   "outputs": [
    {
     "name": "stdout",
     "output_type": "stream",
     "text": [
      "{'type': 'naive', 10000: 2142}\n"
     ]
    }
   ],
   "source": [
    "print(insights)"
   ]
  },
  {
   "cell_type": "code",
   "execution_count": 30,
   "metadata": {},
   "outputs": [],
   "source": [
    "data.append(insights)"
   ]
  },
  {
   "cell_type": "code",
   "execution_count": 31,
   "metadata": {},
   "outputs": [],
   "source": [
    "with open(\"/home/ethereum/Downloads/ResearchData/insights.json\", \"w\") as naivefile:\n",
    "    json.dump(data, naivefile)"
   ]
  }
 ],
 "metadata": {
  "kernelspec": {
   "display_name": "Python 3",
   "language": "python",
   "name": "python3"
  },
  "language_info": {
   "codemirror_mode": {
    "name": "ipython",
    "version": 3
   },
   "file_extension": ".py",
   "mimetype": "text/x-python",
   "name": "python",
   "nbconvert_exporter": "python",
   "pygments_lexer": "ipython3",
   "version": "3.10.12"
  }
 },
 "nbformat": 4,
 "nbformat_minor": 2
}
