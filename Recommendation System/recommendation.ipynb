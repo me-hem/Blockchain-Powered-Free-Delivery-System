{
 "cells": [
  {
   "cell_type": "code",
   "execution_count": 1,
   "metadata": {},
   "outputs": [],
   "source": [
    "import pandas as pd\n",
    "from surprise import Dataset, Reader\n",
    "from surprise.model_selection import train_test_split\n",
    "\n",
    "columns = ['userId', 'productId', 'ratings', 'timestamp']\n",
    "# Load the dataset\n",
    "data = pd.read_csv('/home/ethereum/SNCS/SNCS_Data/ProcessedData/ElectronicsSample.csv')\n",
    "# Convert the data into a format suitable for Surprise\n",
    "reader = Reader(rating_scale=(1, 5))\n",
    "surprise_data = Dataset.load_from_df(data[['userId', 'productId', 'ratings']], reader)\n",
    "\n",
    "# Split the data into training and testing sets\n",
    "trainset, testset = train_test_split(surprise_data, test_size=0.2)\n"
   ]
  },
  {
   "cell_type": "code",
   "execution_count": 2,
   "metadata": {},
   "outputs": [
    {
     "name": "stdout",
     "output_type": "stream",
     "text": [
      "Training KNNBasic...\n"
     ]
    },
    {
     "ename": "",
     "evalue": "",
     "output_type": "error",
     "traceback": [
      "\u001b[1;31mThe Kernel crashed while executing code in the current cell or a previous cell. \n",
      "\u001b[1;31mPlease review the code in the cell(s) to identify a possible cause of the failure. \n",
      "\u001b[1;31mClick <a href='https://aka.ms/vscodeJupyterKernelCrash'>here</a> for more info. \n",
      "\u001b[1;31mView Jupyter <a href='command:jupyter.viewOutput'>log</a> for further details."
     ]
    }
   ],
   "source": [
    "from surprise import KNNBasic, KNNWithMeans, KNNWithZScore, KNNBaseline, SVD, SVDpp, NMF\n",
    "from surprise.model_selection import cross_validate\n",
    "\n",
    "# Define the models to train\n",
    "models = {\n",
    "    'KNNBasic': KNNBasic(),\n",
    "    'KNNWithMeans': KNNWithMeans(),\n",
    "    'KNNWithZScore': KNNWithZScore(),\n",
    "    'KNNBaseline': KNNBaseline(),\n",
    "    'SVD': SVD(),\n",
    "    'SVDpp': SVDpp(),\n",
    "    'NMF': NMF()\n",
    "}\n",
    "\n",
    "# Train and evaluate each model using cross-validation\n",
    "results = {}\n",
    "for name, model in models.items():\n",
    "    print(f\"Training {name}...\")\n",
    "    results[name] = cross_validate(model, surprise_data, measures=['RMSE', 'MAE'], cv=5, verbose=True)\n"
   ]
  },
  {
   "cell_type": "code",
   "execution_count": null,
   "metadata": {},
   "outputs": [],
   "source": [
    "import matplotlib.pyplot as plt\n",
    "\n",
    "# Extract the RMSE and MAE results\n",
    "rmse_results = {name: result['test_rmse'] for name, result in results.items()}\n",
    "mae_results = {name: result['test_mae'] for name, result in results.items()}\n",
    "\n",
    "# Plot the RMSE results\n",
    "plt.figure(figsize=(12, 6))\n",
    "plt.boxplot(rmse_results.values(), labels=rmse_results.keys())\n",
    "plt.title('RMSE Comparison')\n",
    "plt.ylabel('RMSE')\n",
    "plt.show()\n",
    "\n",
    "# Plot the MAE results\n",
    "plt.figure(figsize=(12, 6))\n",
    "plt.boxplot(mae_results.values(), labels=mae_results.keys())\n",
    "plt.title('MAE Comparison')\n",
    "plt.ylabel('MAE')\n",
    "plt.show()\n"
   ]
  },
  {
   "cell_type": "code",
   "execution_count": null,
   "metadata": {},
   "outputs": [],
   "source": [
    "from collections import defaultdict\n",
    "from surprise import accuracy\n",
    "\n",
    "def precision_recall_at_k(predictions, k=10, threshold=3.5):\n",
    "    user_est_true = defaultdict(list)\n",
    "    for uid, _, true_r, est, _ in predictions:\n",
    "        user_est_true[uid].append((est, true_r))\n",
    "    \n",
    "    precisions = dict()\n",
    "    recalls = dict()\n",
    "    for uid, user_ratings in user_est_true.items():\n",
    "        user_ratings.sort(key=lambda x: x[0], reverse=True)\n",
    "        n_rel = sum((true_r >= threshold) for (_, true_r) in user_ratings)\n",
    "        n_rec_k = sum((est >= threshold) for (est, _) in user_ratings[:k])\n",
    "        n_rel_and_rec_k = sum(((true_r >= threshold) and (est >= threshold)) for (est, true_r) in user_ratings[:k])\n",
    "        \n",
    "        precisions[uid] = n_rel_and_rec_k / n_rec_k if n_rec_k != 0 else 1\n",
    "        recalls[uid] = n_rel_and_rec_k / n_rel if n_rel != 0 else 1\n",
    "    \n",
    "    precision_avg = sum(prec for prec in precisions.values()) / len(precisions)\n",
    "    recall_avg = sum(rec for rec in recalls.values()) / len(recalls)\n",
    "    return precision_avg, recall_avg\n",
    "\n",
    "# Evaluate each model with Precision@K and Recall@K\n",
    "k = 10\n",
    "threshold = 3.5\n",
    "precision_recall_results = {}\n",
    "for name, model in models.items():\n",
    "    print(f\"Evaluating {name}...\")\n",
    "    model.fit(trainset)\n",
    "    predictions = model.test(testset)\n",
    "    precision, recall = precision_recall_at_k(predictions, k=k, threshold=threshold)\n",
    "    precision_recall_results[name] = (precision, recall)\n",
    "    print(f'{name} -> Precision@{k}: {precision:.4f}, Recall@{k}: {recall:.4f}')\n"
   ]
  },
  {
   "cell_type": "code",
   "execution_count": null,
   "metadata": {},
   "outputs": [],
   "source": [
    "precision_values = [result[0] for result in precision_recall_results.values()]\n",
    "recall_values = [result[1] for result in precision_recall_results.values()]\n",
    "\n",
    "# Plot the Precision results\n",
    "plt.figure(figsize=(12, 6))\n",
    "plt.bar(precision_recall_results.keys(), precision_values, color='skyblue')\n",
    "plt.title(f'Precision@{k} Comparison')\n",
    "plt.ylabel('Precision')\n",
    "plt.show()\n",
    "\n",
    "# Plot the Recall results\n",
    "plt.figure(figsize=(12, 6))\n",
    "plt.bar(precision_recall_results.keys(), recall_values, color='lightcoral')\n",
    "plt.title(f'Recall@{k} Comparison')\n",
    "plt.ylabel('Recall')\n",
    "plt.show()\n"
   ]
  }
 ],
 "metadata": {
  "kernelspec": {
   "display_name": "RS",
   "language": "python",
   "name": "python3"
  },
  "language_info": {
   "codemirror_mode": {
    "name": "ipython",
    "version": 3
   },
   "file_extension": ".py",
   "mimetype": "text/x-python",
   "name": "python",
   "nbconvert_exporter": "python",
   "pygments_lexer": "ipython3",
   "version": "3.8.19"
  }
 },
 "nbformat": 4,
 "nbformat_minor": 2
}
