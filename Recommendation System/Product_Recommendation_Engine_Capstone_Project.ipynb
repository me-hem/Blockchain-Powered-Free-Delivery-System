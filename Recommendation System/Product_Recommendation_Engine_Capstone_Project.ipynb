{
  "cells": [
    {
      "cell_type": "code",
      "execution_count": 805,
      "metadata": {
        "id": "0zWs3BZ6VhcX"
      },
      "outputs": [
        {
          "data": {
            "text/html": [
              "<div>\n",
              "<style scoped>\n",
              "    .dataframe tbody tr th:only-of-type {\n",
              "        vertical-align: middle;\n",
              "    }\n",
              "\n",
              "    .dataframe tbody tr th {\n",
              "        vertical-align: top;\n",
              "    }\n",
              "\n",
              "    .dataframe thead th {\n",
              "        text-align: right;\n",
              "    }\n",
              "</style>\n",
              "<table border=\"1\" class=\"dataframe\">\n",
              "  <thead>\n",
              "    <tr style=\"text-align: right;\">\n",
              "      <th></th>\n",
              "      <th>userId</th>\n",
              "      <th>productId</th>\n",
              "      <th>ratings</th>\n",
              "      <th>timestamp</th>\n",
              "    </tr>\n",
              "  </thead>\n",
              "  <tbody>\n",
              "    <tr>\n",
              "      <th>count</th>\n",
              "      <td>371345.000000</td>\n",
              "      <td>371345.000000</td>\n",
              "      <td>371345.000000</td>\n",
              "      <td>3.713450e+05</td>\n",
              "    </tr>\n",
              "    <tr>\n",
              "      <th>mean</th>\n",
              "      <td>12559.800003</td>\n",
              "      <td>162114.504065</td>\n",
              "      <td>4.112093</td>\n",
              "      <td>1.440742e+09</td>\n",
              "    </tr>\n",
              "    <tr>\n",
              "      <th>std</th>\n",
              "      <td>10290.338261</td>\n",
              "      <td>93488.228186</td>\n",
              "      <td>1.362099</td>\n",
              "      <td>6.962743e+07</td>\n",
              "    </tr>\n",
              "    <tr>\n",
              "      <th>min</th>\n",
              "      <td>0.000000</td>\n",
              "      <td>0.000000</td>\n",
              "      <td>1.000000</td>\n",
              "      <td>9.474624e+08</td>\n",
              "    </tr>\n",
              "    <tr>\n",
              "      <th>25%</th>\n",
              "      <td>2682.000000</td>\n",
              "      <td>81155.000000</td>\n",
              "      <td>4.000000</td>\n",
              "      <td>1.416096e+09</td>\n",
              "    </tr>\n",
              "    <tr>\n",
              "      <th>50%</th>\n",
              "      <td>10102.000000</td>\n",
              "      <td>162205.000000</td>\n",
              "      <td>5.000000</td>\n",
              "      <td>1.456963e+09</td>\n",
              "    </tr>\n",
              "    <tr>\n",
              "      <th>75%</th>\n",
              "      <td>21590.000000</td>\n",
              "      <td>242970.000000</td>\n",
              "      <td>5.000000</td>\n",
              "      <td>1.485562e+09</td>\n",
              "    </tr>\n",
              "    <tr>\n",
              "      <th>max</th>\n",
              "      <td>32585.000000</td>\n",
              "      <td>324037.000000</td>\n",
              "      <td>5.000000</td>\n",
              "      <td>1.538438e+09</td>\n",
              "    </tr>\n",
              "  </tbody>\n",
              "</table>\n",
              "</div>"
            ],
            "text/plain": [
              "              userId      productId        ratings     timestamp\n",
              "count  371345.000000  371345.000000  371345.000000  3.713450e+05\n",
              "mean    12559.800003  162114.504065       4.112093  1.440742e+09\n",
              "std     10290.338261   93488.228186       1.362099  6.962743e+07\n",
              "min         0.000000       0.000000       1.000000  9.474624e+08\n",
              "25%      2682.000000   81155.000000       4.000000  1.416096e+09\n",
              "50%     10102.000000  162205.000000       5.000000  1.456963e+09\n",
              "75%     21590.000000  242970.000000       5.000000  1.485562e+09\n",
              "max     32585.000000  324037.000000       5.000000  1.538438e+09"
            ]
          },
          "execution_count": 805,
          "metadata": {},
          "output_type": "execute_result"
        }
      ],
      "source": [
        "import pandas as pd\n",
        "import numpy as np\n",
        "import matplotlib.pyplot as plt\n",
        "import seaborn as sns\n",
        "from sklearn.preprocessing import LabelEncoder\n",
        "\n",
        "df = pd.read_csv('/home/ethereum/SNCS/SNCS_Data/ProcessedData/All_Beauty.csv', names=[\"userId\",\t\"productId\",\t\"ratings\",\t\"timestamp\"])\n",
        "\n",
        "user_encoder = LabelEncoder()\n",
        "product_encoder = LabelEncoder()\n",
        "\n",
        "df['userId'] = user_encoder.fit_transform(df['userId'])\n",
        "df['productId'] = product_encoder.fit_transform(df['productId'])\n",
        "\n",
        "df.describe(include='all') #to get an overview of the data"
      ]
    },
    {
      "cell_type": "markdown",
      "metadata": {
        "id": "1U5KkcVVzLvn"
      },
      "source": [
        "# Checking Null values"
      ]
    },
    {
      "cell_type": "code",
      "execution_count": 806,
      "metadata": {
        "colab": {
          "base_uri": "https://localhost:8080/",
          "height": 173
        },
        "id": "qC83c1TPV1N3",
        "outputId": "f32571d3-6234-419e-9797-4bb424276781"
      },
      "outputs": [
        {
          "data": {
            "text/html": [
              "<div>\n",
              "<style scoped>\n",
              "    .dataframe tbody tr th:only-of-type {\n",
              "        vertical-align: middle;\n",
              "    }\n",
              "\n",
              "    .dataframe tbody tr th {\n",
              "        vertical-align: top;\n",
              "    }\n",
              "\n",
              "    .dataframe thead th {\n",
              "        text-align: right;\n",
              "    }\n",
              "</style>\n",
              "<table border=\"1\" class=\"dataframe\">\n",
              "  <thead>\n",
              "    <tr style=\"text-align: right;\">\n",
              "      <th></th>\n",
              "      <th>0</th>\n",
              "    </tr>\n",
              "  </thead>\n",
              "  <tbody>\n",
              "    <tr>\n",
              "      <th>userId</th>\n",
              "      <td>0.0</td>\n",
              "    </tr>\n",
              "    <tr>\n",
              "      <th>productId</th>\n",
              "      <td>0.0</td>\n",
              "    </tr>\n",
              "    <tr>\n",
              "      <th>ratings</th>\n",
              "      <td>0.0</td>\n",
              "    </tr>\n",
              "    <tr>\n",
              "      <th>timestamp</th>\n",
              "      <td>0.0</td>\n",
              "    </tr>\n",
              "  </tbody>\n",
              "</table>\n",
              "</div>"
            ],
            "text/plain": [
              "             0\n",
              "userId     0.0\n",
              "productId  0.0\n",
              "ratings    0.0\n",
              "timestamp  0.0"
            ]
          },
          "execution_count": 806,
          "metadata": {},
          "output_type": "execute_result"
        }
      ],
      "source": [
        "missing_data = pd.DataFrame(df.isnull().mean()*100)\n",
        "missing_data"
      ]
    },
    {
      "cell_type": "markdown",
      "metadata": {
        "id": "du4X5y04WrNq"
      },
      "source": [
        "All the columns are clean"
      ]
    },
    {
      "cell_type": "code",
      "execution_count": 807,
      "metadata": {
        "colab": {
          "base_uri": "https://localhost:8080/"
        },
        "id": "bcyvlAXWeNbu",
        "outputId": "04540bf9-5a5c-4cf2-e1f9-966a57e768ae"
      },
      "outputs": [
        {
          "name": "stdout",
          "output_type": "stream",
          "text": [
            "Upper bound: 0         False\n",
            "1         False\n",
            "2         False\n",
            "3         False\n",
            "4         False\n",
            "          ...  \n",
            "371340    False\n",
            "371341    False\n",
            "371342    False\n",
            "371343    False\n",
            "371344    False\n",
            "Name: ratings, Length: 371345, dtype: bool\n",
            "(array([], dtype=int64),)\n",
            "Lower bound: 0          True\n",
            "1         False\n",
            "2         False\n",
            "3         False\n",
            "4         False\n",
            "          ...  \n",
            "371340     True\n",
            "371341    False\n",
            "371342    False\n",
            "371343     True\n",
            "371344     True\n",
            "Name: ratings, Length: 371345, dtype: bool\n",
            "(array([     0,      7,      9, ..., 371340, 371343, 371344]),)\n"
          ]
        },
        {
          "name": "stderr",
          "output_type": "stream",
          "text": [
            "/tmp/ipykernel_26315/2755095297.py:2: DeprecationWarning: the `interpolation=` argument to percentile was renamed to `method=`, which has additional options.\n",
            "Users of the modes 'nearest', 'lower', 'higher', or 'midpoint' are encouraged to review the method they used. (Deprecated NumPy 1.22)\n",
            "  Q1 = np.percentile(df['ratings'], 25,\n",
            "/tmp/ipykernel_26315/2755095297.py:5: DeprecationWarning: the `interpolation=` argument to percentile was renamed to `method=`, which has additional options.\n",
            "Users of the modes 'nearest', 'lower', 'higher', or 'midpoint' are encouraged to review the method they used. (Deprecated NumPy 1.22)\n",
            "  Q3 = np.percentile(df['ratings'], 75,\n"
          ]
        }
      ],
      "source": [
        "# IQR\n",
        "Q1 = np.percentile(df['ratings'], 25,\n",
        "                   interpolation = 'midpoint')\n",
        " \n",
        "Q3 = np.percentile(df['ratings'], 75,\n",
        "                   interpolation = 'midpoint')\n",
        "IQR = Q3 - Q1\n",
        "\n",
        "\n",
        "# Above Upper bound\n",
        "upper = df['ratings'] >= (Q3+1.5*IQR)\n",
        " \n",
        "print(\"Upper bound:\",upper)\n",
        "print(np.where(upper))\n",
        " \n",
        "# Below Lower bound\n",
        "lower = df['ratings'] <= (Q1-1.5*IQR)\n",
        "print(\"Lower bound:\", lower)\n",
        "print(np.where(lower))"
      ]
    },
    {
      "cell_type": "markdown",
      "metadata": {
        "id": "TDoRx7zqzR65"
      },
      "source": [
        "#Exploratory Data Analysis"
      ]
    },
    {
      "cell_type": "markdown",
      "metadata": {
        "id": "szwRvZdYTZYC"
      },
      "source": [
        "##Total Count of each ratings"
      ]
    },
    {
      "cell_type": "code",
      "execution_count": 808,
      "metadata": {
        "colab": {
          "base_uri": "https://localhost:8080/",
          "height": 361
        },
        "id": "J-8eDaQXW7z0",
        "outputId": "8c5058af-ee86-4ab0-e699-f1e22a994514"
      },
      "outputs": [
        {
          "data": {
            "text/plain": [
              "<Axes: ylabel='count'>"
            ]
          },
          "execution_count": 808,
          "metadata": {},
          "output_type": "execute_result"
        },
        {
          "data": {
            "image/png": "[encoded data removed]",
            "text/plain": [
              "<Figure size 640x480 with 1 Axes>"
            ]
          },
          "metadata": {},
          "output_type": "display_data"
        }
      ],
      "source": [
        "sns.countplot(df['ratings']) #total count of ratings."
      ]
    },
    {
      "cell_type": "code",
      "execution_count": 809,
      "metadata": {
        "colab": {
          "base_uri": "https://localhost:8080/"
        },
        "id": "8SF9ZkMTXA1W",
        "outputId": "1777111d-dc05-4ec8-b560-177e8d175b20"
      },
      "outputs": [
        {
          "data": {
            "text/plain": [
              "32586"
            ]
          },
          "execution_count": 809,
          "metadata": {},
          "output_type": "execute_result"
        }
      ],
      "source": [
        "len(df['userId'].unique())"
      ]
    },
    {
      "cell_type": "markdown",
      "metadata": {
        "id": "6av65QqrTjOM"
      },
      "source": [
        "##Top Products based on sales"
      ]
    },
    {
      "cell_type": "code",
      "execution_count": 810,
      "metadata": {
        "colab": {
          "base_uri": "https://localhost:8080/",
          "height": 700
        },
        "id": "iwWUkMlNXVXn",
        "outputId": "feab8114-865b-41db-e085-2d3134a444aa"
      },
      "outputs": [
        {
          "data": {
            "text/html": [
              "<div>\n",
              "<style scoped>\n",
              "    .dataframe tbody tr th:only-of-type {\n",
              "        vertical-align: middle;\n",
              "    }\n",
              "\n",
              "    .dataframe tbody tr th {\n",
              "        vertical-align: top;\n",
              "    }\n",
              "\n",
              "    .dataframe thead th {\n",
              "        text-align: right;\n",
              "    }\n",
              "</style>\n",
              "<table border=\"1\" class=\"dataframe\">\n",
              "  <thead>\n",
              "    <tr style=\"text-align: right;\">\n",
              "      <th></th>\n",
              "      <th>productId</th>\n",
              "      <th>Count</th>\n",
              "    </tr>\n",
              "  </thead>\n",
              "  <tbody>\n",
              "    <tr>\n",
              "      <th>0</th>\n",
              "      <td>74103</td>\n",
              "      <td>27</td>\n",
              "    </tr>\n",
              "    <tr>\n",
              "      <th>1</th>\n",
              "      <td>121769</td>\n",
              "      <td>23</td>\n",
              "    </tr>\n",
              "    <tr>\n",
              "      <th>2</th>\n",
              "      <td>12456</td>\n",
              "      <td>21</td>\n",
              "    </tr>\n",
              "    <tr>\n",
              "      <th>3</th>\n",
              "      <td>61246</td>\n",
              "      <td>21</td>\n",
              "    </tr>\n",
              "    <tr>\n",
              "      <th>4</th>\n",
              "      <td>254163</td>\n",
              "      <td>20</td>\n",
              "    </tr>\n",
              "    <tr>\n",
              "      <th>5</th>\n",
              "      <td>187447</td>\n",
              "      <td>18</td>\n",
              "    </tr>\n",
              "    <tr>\n",
              "      <th>6</th>\n",
              "      <td>1875</td>\n",
              "      <td>14</td>\n",
              "    </tr>\n",
              "    <tr>\n",
              "      <th>7</th>\n",
              "      <td>101783</td>\n",
              "      <td>14</td>\n",
              "    </tr>\n",
              "    <tr>\n",
              "      <th>8</th>\n",
              "      <td>301016</td>\n",
              "      <td>13</td>\n",
              "    </tr>\n",
              "    <tr>\n",
              "      <th>9</th>\n",
              "      <td>291606</td>\n",
              "      <td>13</td>\n",
              "    </tr>\n",
              "    <tr>\n",
              "      <th>10</th>\n",
              "      <td>251656</td>\n",
              "      <td>13</td>\n",
              "    </tr>\n",
              "    <tr>\n",
              "      <th>11</th>\n",
              "      <td>55981</td>\n",
              "      <td>12</td>\n",
              "    </tr>\n",
              "    <tr>\n",
              "      <th>12</th>\n",
              "      <td>201398</td>\n",
              "      <td>12</td>\n",
              "    </tr>\n",
              "    <tr>\n",
              "      <th>13</th>\n",
              "      <td>215323</td>\n",
              "      <td>12</td>\n",
              "    </tr>\n",
              "    <tr>\n",
              "      <th>14</th>\n",
              "      <td>113750</td>\n",
              "      <td>12</td>\n",
              "    </tr>\n",
              "    <tr>\n",
              "      <th>15</th>\n",
              "      <td>260216</td>\n",
              "      <td>12</td>\n",
              "    </tr>\n",
              "    <tr>\n",
              "      <th>16</th>\n",
              "      <td>303291</td>\n",
              "      <td>12</td>\n",
              "    </tr>\n",
              "    <tr>\n",
              "      <th>17</th>\n",
              "      <td>160191</td>\n",
              "      <td>12</td>\n",
              "    </tr>\n",
              "    <tr>\n",
              "      <th>18</th>\n",
              "      <td>282934</td>\n",
              "      <td>11</td>\n",
              "    </tr>\n",
              "    <tr>\n",
              "      <th>19</th>\n",
              "      <td>65774</td>\n",
              "      <td>11</td>\n",
              "    </tr>\n",
              "    <tr>\n",
              "      <th>20</th>\n",
              "      <td>9744</td>\n",
              "      <td>11</td>\n",
              "    </tr>\n",
              "  </tbody>\n",
              "</table>\n",
              "</div>"
            ],
            "text/plain": [
              "    productId  Count\n",
              "0       74103     27\n",
              "1      121769     23\n",
              "2       12456     21\n",
              "3       61246     21\n",
              "4      254163     20\n",
              "5      187447     18\n",
              "6        1875     14\n",
              "7      101783     14\n",
              "8      301016     13\n",
              "9      291606     13\n",
              "10     251656     13\n",
              "11      55981     12\n",
              "12     201398     12\n",
              "13     215323     12\n",
              "14     113750     12\n",
              "15     260216     12\n",
              "16     303291     12\n",
              "17     160191     12\n",
              "18     282934     11\n",
              "19      65774     11\n",
              "20       9744     11"
            ]
          },
          "execution_count": 810,
          "metadata": {},
          "output_type": "execute_result"
        }
      ],
      "source": [
        "#Top 20 Products based on sales.\n",
        "\n",
        "a = list(df['productId'].value_counts())\n",
        "b = list(df['productId'].unique())\n",
        "top_20_products = pd.DataFrame(list(zip(b[0:21],a[0:21])),columns =['productId', 'Count'])\n",
        "top_20_products"
      ]
    },
    {
      "cell_type": "code",
      "execution_count": 811,
      "metadata": {
        "colab": {
          "base_uri": "https://localhost:8080/",
          "height": 459
        },
        "id": "TQAAAuTJYbBa",
        "outputId": "f5e25559-8aea-457b-be06-760ec1aecc18"
      },
      "outputs": [
        {
          "data": {
            "text/plain": [
              "<Axes: xlabel='productId', ylabel='Count'>"
            ]
          },
          "execution_count": 811,
          "metadata": {},
          "output_type": "execute_result"
        },
        {
          "data": {
            "image/png": "[encoded data removed]",
            "text/plain": [
              "<Figure size 1000x700 with 1 Axes>"
            ]
          },
          "metadata": {},
          "output_type": "display_data"
        }
      ],
      "source": [
        "#Barplot of top 5 products.\n",
        "\n",
        "plt.figure(figsize=(10,7))\n",
        "sns.barplot(x=top_20_products['productId'].head(5),y=top_20_products['Count'].head(5))"
      ]
    },
    {
      "cell_type": "code",
      "execution_count": 812,
      "metadata": {
        "id": "dfLWdMr8heWO"
      },
      "outputs": [],
      "source": [
        "#Top 20 products based on ratings\n",
        "\n",
        "# Prod_R5 = list(df.loc[df['ratings']==5,'productId'])\n",
        "# Prod_R4 = list(df.loc[df['ratings']==4,'productId'])[']=\n",
        "# Prod_R3 = list(df.loc[df['ratings']==3,'productId'])\n",
        "# Prod_R2 = list(df.loc[df['ratings']==2,'productId'])\n",
        "# Prod_R1 = list(df.loc[df['ratings']==1,'productId'])\n",
        "# # total_ratings = list(df['ratings'].value_counts())\n",
        "# # total_ratings\n",
        "# R5_count = dict((x,Prod_R5.count(x)) for x in set(Prod_R5))\n",
        "# R4_count = dict((x,Prod_R4.count(x)) for x in set(Prod_R4))\n",
        "# R3_count = dict((x,Prod_R3.count(x)) for x in set(Prod_R3))\n",
        "# R2_count = dict((x,Prod_R2.count(x)) for x in set(Prod_R2))\n",
        "# R1_count = dict((x,Prod_R1.count(x)) for x in set(Prod_R1))\n",
        "# top_rating_products = topuser_rating_products[topuser_ratings_df['productId'].isin(top_prod)]"
      ]
    },
    {
      "cell_type": "code",
      "execution_count": 813,
      "metadata": {
        "id": "HV6PofqV1opI"
      },
      "outputs": [],
      "source": [
        "error_results = {}\n",
        "RS_pred = pd.DataFrame()"
      ]
    },
    {
      "cell_type": "markdown",
      "metadata": {
        "id": "UTa32uCLXreq"
      },
      "source": [
        "## Number of Unique users"
      ]
    },
    {
      "cell_type": "code",
      "execution_count": 814,
      "metadata": {
        "colab": {
          "base_uri": "https://localhost:8080/"
        },
        "id": "U6GcGbWbY_nl",
        "outputId": "d5f57194-384e-4a7d-f714-62f6299a9b5e"
      },
      "outputs": [
        {
          "name": "stdout",
          "output_type": "stream",
          "text": [
            "Number of unique users 32586\n"
          ]
        }
      ],
      "source": [
        "print('Number of unique users', len(df['userId'].unique()))"
      ]
    },
    {
      "cell_type": "code",
      "execution_count": 815,
      "metadata": {
        "colab": {
          "base_uri": "https://localhost:8080/",
          "height": 700
        },
        "id": "niy-t3pCdJnb",
        "outputId": "962ae084-3bd5-4c04-d8e6-b38990ec9854"
      },
      "outputs": [
        {
          "data": {
            "text/html": [
              "<div>\n",
              "<style scoped>\n",
              "    .dataframe tbody tr th:only-of-type {\n",
              "        vertical-align: middle;\n",
              "    }\n",
              "\n",
              "    .dataframe tbody tr th {\n",
              "        vertical-align: top;\n",
              "    }\n",
              "\n",
              "    .dataframe thead th {\n",
              "        text-align: right;\n",
              "    }\n",
              "</style>\n",
              "<table border=\"1\" class=\"dataframe\">\n",
              "  <thead>\n",
              "    <tr style=\"text-align: right;\">\n",
              "      <th></th>\n",
              "      <th>userId</th>\n",
              "      <th>Count</th>\n",
              "    </tr>\n",
              "  </thead>\n",
              "  <tbody>\n",
              "    <tr>\n",
              "      <th>0</th>\n",
              "      <td>1</td>\n",
              "      <td>8672</td>\n",
              "    </tr>\n",
              "    <tr>\n",
              "      <th>1</th>\n",
              "      <td>2</td>\n",
              "      <td>8341</td>\n",
              "    </tr>\n",
              "    <tr>\n",
              "      <th>2</th>\n",
              "      <td>23</td>\n",
              "      <td>4792</td>\n",
              "    </tr>\n",
              "    <tr>\n",
              "      <th>3</th>\n",
              "      <td>59</td>\n",
              "      <td>4544</td>\n",
              "    </tr>\n",
              "    <tr>\n",
              "      <th>4</th>\n",
              "      <td>60</td>\n",
              "      <td>4246</td>\n",
              "    </tr>\n",
              "    <tr>\n",
              "      <th>5</th>\n",
              "      <td>84</td>\n",
              "      <td>2959</td>\n",
              "    </tr>\n",
              "    <tr>\n",
              "      <th>6</th>\n",
              "      <td>87</td>\n",
              "      <td>2790</td>\n",
              "    </tr>\n",
              "    <tr>\n",
              "      <th>7</th>\n",
              "      <td>93</td>\n",
              "      <td>2249</td>\n",
              "    </tr>\n",
              "    <tr>\n",
              "      <th>8</th>\n",
              "      <td>94</td>\n",
              "      <td>2234</td>\n",
              "    </tr>\n",
              "    <tr>\n",
              "      <th>9</th>\n",
              "      <td>109</td>\n",
              "      <td>2190</td>\n",
              "    </tr>\n",
              "    <tr>\n",
              "      <th>10</th>\n",
              "      <td>114</td>\n",
              "      <td>1964</td>\n",
              "    </tr>\n",
              "    <tr>\n",
              "      <th>11</th>\n",
              "      <td>119</td>\n",
              "      <td>1850</td>\n",
              "    </tr>\n",
              "    <tr>\n",
              "      <th>12</th>\n",
              "      <td>121</td>\n",
              "      <td>1770</td>\n",
              "    </tr>\n",
              "    <tr>\n",
              "      <th>13</th>\n",
              "      <td>117</td>\n",
              "      <td>1538</td>\n",
              "    </tr>\n",
              "    <tr>\n",
              "      <th>14</th>\n",
              "      <td>123</td>\n",
              "      <td>1330</td>\n",
              "    </tr>\n",
              "    <tr>\n",
              "      <th>15</th>\n",
              "      <td>122</td>\n",
              "      <td>1329</td>\n",
              "    </tr>\n",
              "    <tr>\n",
              "      <th>16</th>\n",
              "      <td>120</td>\n",
              "      <td>1223</td>\n",
              "    </tr>\n",
              "    <tr>\n",
              "      <th>17</th>\n",
              "      <td>118</td>\n",
              "      <td>1136</td>\n",
              "    </tr>\n",
              "    <tr>\n",
              "      <th>18</th>\n",
              "      <td>124</td>\n",
              "      <td>1128</td>\n",
              "    </tr>\n",
              "    <tr>\n",
              "      <th>19</th>\n",
              "      <td>126</td>\n",
              "      <td>1088</td>\n",
              "    </tr>\n",
              "    <tr>\n",
              "      <th>20</th>\n",
              "      <td>128</td>\n",
              "      <td>1080</td>\n",
              "    </tr>\n",
              "  </tbody>\n",
              "</table>\n",
              "</div>"
            ],
            "text/plain": [
              "    userId  Count\n",
              "0        1   8672\n",
              "1        2   8341\n",
              "2       23   4792\n",
              "3       59   4544\n",
              "4       60   4246\n",
              "5       84   2959\n",
              "6       87   2790\n",
              "7       93   2249\n",
              "8       94   2234\n",
              "9      109   2190\n",
              "10     114   1964\n",
              "11     119   1850\n",
              "12     121   1770\n",
              "13     117   1538\n",
              "14     123   1330\n",
              "15     122   1329\n",
              "16     120   1223\n",
              "17     118   1136\n",
              "18     124   1128\n",
              "19     126   1088\n",
              "20     128   1080"
            ]
          },
          "execution_count": 815,
          "metadata": {},
          "output_type": "execute_result"
        }
      ],
      "source": [
        "#top 20 users based on count of orders placed.\n",
        "\n",
        "a = list(df['userId'].value_counts())\n",
        "b = list(df['userId'].unique())\n",
        "top_20_Users = pd.DataFrame(list(zip(b[0:21],a[0:21])),columns =['userId', 'Count'])\n",
        "top_20_Users"
      ]
    },
    {
      "cell_type": "code",
      "execution_count": 816,
      "metadata": {
        "id": "z0aJ-H0ceLwh"
      },
      "outputs": [],
      "source": [
        "# list(df.loc(df['ratings']>=4.0,df['userId'].value_counts()))"
      ]
    },
    {
      "cell_type": "markdown",
      "metadata": {
        "id": "vHRbgiNFXxf2"
      },
      "source": [
        "## Number of Unique products"
      ]
    },
    {
      "cell_type": "code",
      "execution_count": 817,
      "metadata": {
        "colab": {
          "base_uri": "https://localhost:8080/"
        },
        "id": "EiYxiU5FboXV",
        "outputId": "ad8317c1-44ee-4702-f5a9-1d70fcc7b27b"
      },
      "outputs": [
        {
          "name": "stdout",
          "output_type": "stream",
          "text": [
            "Number of unique products 324038\n"
          ]
        }
      ],
      "source": [
        "print('Number of unique products', len(df['productId'].unique()))"
      ]
    },
    {
      "cell_type": "markdown",
      "metadata": {
        "id": "T3bIJuoxX7s6"
      },
      "source": [
        "## Different types of Ratings"
      ]
    },
    {
      "cell_type": "code",
      "execution_count": 818,
      "metadata": {
        "colab": {
          "base_uri": "https://localhost:8080/"
        },
        "id": "922Yg6pBb67L",
        "outputId": "65a790f4-fbf7-4b0d-df77-1a7c6fc17f29"
      },
      "outputs": [
        {
          "name": "stdout",
          "output_type": "stream",
          "text": [
            "Unique Ratings [1. 4. 5. 2. 3.]\n"
          ]
        }
      ],
      "source": [
        "print('Unique Ratings',df['ratings'].unique())"
      ]
    },
    {
      "cell_type": "markdown",
      "metadata": {
        "id": "QV3Timb0YD3z"
      },
      "source": [
        "## Number of Products with good ratings"
      ]
    },
    {
      "cell_type": "code",
      "execution_count": 819,
      "metadata": {
        "colab": {
          "base_uri": "https://localhost:8080/"
        },
        "id": "vcrTN-0YcAkH",
        "outputId": "1520da79-7c40-4759-823f-32d767ba3a9d"
      },
      "outputs": [
        {
          "name": "stdout",
          "output_type": "stream",
          "text": [
            "Number of unique products rated high 245792\n"
          ]
        }
      ],
      "source": [
        "max_ratings1 = df[df['ratings'] >= 4.0]\n",
        "print('Number of unique products rated high',len(max_ratings1['productId'].unique()))"
      ]
    },
    {
      "cell_type": "markdown",
      "metadata": {
        "id": "s8Z1sRqLYMRf"
      },
      "source": [
        "# Model Preparation"
      ]
    },
    {
      "cell_type": "code",
      "execution_count": 820,
      "metadata": {
        "id": "ZfNKWtIVjYyk"
      },
      "outputs": [],
      "source": [
        "#Now we will drop timestamp column as it isn't much of help.\n",
        "\n",
        "df.drop('timestamp',axis=1,inplace=True)"
      ]
    },
    {
      "cell_type": "code",
      "execution_count": 821,
      "metadata": {
        "id": "Y49zeeIEh2jY"
      },
      "outputs": [],
      "source": [
        "from sklearn.model_selection import train_test_split\n",
        "train_data, test_data = train_test_split(df, test_size = 0.2, random_state=0)"
      ]
    },
    {
      "cell_type": "code",
      "execution_count": 822,
      "metadata": {
        "colab": {
          "base_uri": "https://localhost:8080/",
          "height": 204
        },
        "id": "8j1gUDowh9T8",
        "outputId": "5468fca0-a272-4da6-b689-7bc602ab11dc"
      },
      "outputs": [
        {
          "data": {
            "text/html": [
              "<div>\n",
              "<style scoped>\n",
              "    .dataframe tbody tr th:only-of-type {\n",
              "        vertical-align: middle;\n",
              "    }\n",
              "\n",
              "    .dataframe tbody tr th {\n",
              "        vertical-align: top;\n",
              "    }\n",
              "\n",
              "    .dataframe thead th {\n",
              "        text-align: right;\n",
              "    }\n",
              "</style>\n",
              "<table border=\"1\" class=\"dataframe\">\n",
              "  <thead>\n",
              "    <tr style=\"text-align: right;\">\n",
              "      <th></th>\n",
              "      <th>userId</th>\n",
              "      <th>productId</th>\n",
              "      <th>ratings</th>\n",
              "    </tr>\n",
              "  </thead>\n",
              "  <tbody>\n",
              "    <tr>\n",
              "      <th>130619</th>\n",
              "      <td>939</td>\n",
              "      <td>302648</td>\n",
              "      <td>2.0</td>\n",
              "    </tr>\n",
              "    <tr>\n",
              "      <th>234048</th>\n",
              "      <td>28385</td>\n",
              "      <td>305128</td>\n",
              "      <td>5.0</td>\n",
              "    </tr>\n",
              "    <tr>\n",
              "      <th>149127</th>\n",
              "      <td>10162</td>\n",
              "      <td>173544</td>\n",
              "      <td>5.0</td>\n",
              "    </tr>\n",
              "    <tr>\n",
              "      <th>217892</th>\n",
              "      <td>24886</td>\n",
              "      <td>178397</td>\n",
              "      <td>5.0</td>\n",
              "    </tr>\n",
              "    <tr>\n",
              "      <th>176290</th>\n",
              "      <td>16666</td>\n",
              "      <td>173913</td>\n",
              "      <td>5.0</td>\n",
              "    </tr>\n",
              "  </tbody>\n",
              "</table>\n",
              "</div>"
            ],
            "text/plain": [
              "        userId  productId  ratings\n",
              "130619     939     302648      2.0\n",
              "234048   28385     305128      5.0\n",
              "149127   10162     173544      5.0\n",
              "217892   24886     178397      5.0\n",
              "176290   16666     173913      5.0"
            ]
          },
          "execution_count": 822,
          "metadata": {},
          "output_type": "execute_result"
        }
      ],
      "source": [
        "train_data.head()"
      ]
    },
    {
      "cell_type": "code",
      "execution_count": 823,
      "metadata": {
        "colab": {
          "base_uri": "https://localhost:8080/",
          "height": 204
        },
        "id": "4T3Q1jQjiT9H",
        "outputId": "36ab32b2-9ee6-4ae5-88ba-a5a0d1449679"
      },
      "outputs": [
        {
          "data": {
            "text/html": [
              "<div>\n",
              "<style scoped>\n",
              "    .dataframe tbody tr th:only-of-type {\n",
              "        vertical-align: middle;\n",
              "    }\n",
              "\n",
              "    .dataframe tbody tr th {\n",
              "        vertical-align: top;\n",
              "    }\n",
              "\n",
              "    .dataframe thead th {\n",
              "        text-align: right;\n",
              "    }\n",
              "</style>\n",
              "<table border=\"1\" class=\"dataframe\">\n",
              "  <thead>\n",
              "    <tr style=\"text-align: right;\">\n",
              "      <th></th>\n",
              "      <th>userId</th>\n",
              "      <th>productId</th>\n",
              "      <th>ratings</th>\n",
              "    </tr>\n",
              "  </thead>\n",
              "  <tbody>\n",
              "    <tr>\n",
              "      <th>221473</th>\n",
              "      <td>25680</td>\n",
              "      <td>238112</td>\n",
              "      <td>5.0</td>\n",
              "    </tr>\n",
              "    <tr>\n",
              "      <th>20759</th>\n",
              "      <td>666</td>\n",
              "      <td>203344</td>\n",
              "      <td>5.0</td>\n",
              "    </tr>\n",
              "    <tr>\n",
              "      <th>262652</th>\n",
              "      <td>1852</td>\n",
              "      <td>270088</td>\n",
              "      <td>5.0</td>\n",
              "    </tr>\n",
              "    <tr>\n",
              "      <th>58099</th>\n",
              "      <td>2206</td>\n",
              "      <td>195167</td>\n",
              "      <td>5.0</td>\n",
              "    </tr>\n",
              "    <tr>\n",
              "      <th>227661</th>\n",
              "      <td>26878</td>\n",
              "      <td>276744</td>\n",
              "      <td>5.0</td>\n",
              "    </tr>\n",
              "  </tbody>\n",
              "</table>\n",
              "</div>"
            ],
            "text/plain": [
              "        userId  productId  ratings\n",
              "221473   25680     238112      5.0\n",
              "20759      666     203344      5.0\n",
              "262652    1852     270088      5.0\n",
              "58099     2206     195167      5.0\n",
              "227661   26878     276744      5.0"
            ]
          },
          "execution_count": 823,
          "metadata": {},
          "output_type": "execute_result"
        }
      ],
      "source": [
        "test_data.head()"
      ]
    },
    {
      "cell_type": "markdown",
      "metadata": {
        "id": "CeNHK7HHZH_Y"
      },
      "source": [
        "## Model: Collaborative Filtering using surprise library"
      ]
    },
    {
      "cell_type": "code",
      "execution_count": 824,
      "metadata": {
        "colab": {
          "base_uri": "https://localhost:8080/"
        },
        "id": "VtS_U1QhoVJr",
        "outputId": "86f908ba-c04f-4f39-b146-f7f137d10dab"
      },
      "outputs": [
        {
          "name": "stdout",
          "output_type": "stream",
          "text": [
            "Requirement already satisfied: surprise in /home/ethereum/anaconda3/envs/RS/lib/python3.8/site-packages (0.1)\n",
            "Requirement already satisfied: scikit-surprise in /home/ethereum/anaconda3/envs/RS/lib/python3.8/site-packages (from surprise) (1.1.4)\n",
            "Requirement already satisfied: joblib>=1.2.0 in /home/ethereum/anaconda3/envs/RS/lib/python3.8/site-packages (from scikit-surprise->surprise) (1.4.0)\n",
            "Requirement already satisfied: numpy>=1.19.5 in /home/ethereum/anaconda3/envs/RS/lib/python3.8/site-packages (from scikit-surprise->surprise) (1.24.3)\n",
            "Requirement already satisfied: scipy>=1.6.0 in /home/ethereum/anaconda3/envs/RS/lib/python3.8/site-packages (from scikit-surprise->surprise) (1.10.1)\n"
          ]
        }
      ],
      "source": [
        "!pip install surprise"
      ]
    },
    {
      "cell_type": "code",
      "execution_count": 825,
      "metadata": {
        "id": "b2NRVriSpV_X"
      },
      "outputs": [],
      "source": [
        "from surprise import KNNBasic, SVD, NormalPredictor, KNNBaseline,KNNWithMeans, KNNWithZScore, BaselineOnly, CoClustering, Reader, dataset, accuracy"
      ]
    },
    {
      "cell_type": "markdown",
      "metadata": {
        "id": "KWu6nCu-ZOTT"
      },
      "source": [
        "Since data is too huge, so a subset is taken which is top users who had given more than 5 ratings."
      ]
    },
    {
      "cell_type": "code",
      "execution_count": 826,
      "metadata": {
        "id": "jVuWwJVgWOe0"
      },
      "outputs": [],
      "source": [
        "userId = df.groupby('userId').count()"
      ]
    },
    {
      "cell_type": "code",
      "execution_count": 827,
      "metadata": {
        "id": "_TNb-OukWVxD"
      },
      "outputs": [],
      "source": [
        "top_user = userId[userId['ratings'] >= 5].index"
      ]
    },
    {
      "cell_type": "code",
      "execution_count": 828,
      "metadata": {
        "id": "3w7ksmnMWacL"
      },
      "outputs": [],
      "source": [
        "topuser_ratings_df = df[df['userId'].isin(top_user)]"
      ]
    },
    {
      "cell_type": "code",
      "execution_count": 829,
      "metadata": {
        "colab": {
          "base_uri": "https://localhost:8080/",
          "height": 204
        },
        "id": "xR8P9uP9Wmzh",
        "outputId": "b311f04c-8627-46c5-abe1-690204688359"
      },
      "outputs": [
        {
          "data": {
            "text/html": [
              "<div>\n",
              "<style scoped>\n",
              "    .dataframe tbody tr th:only-of-type {\n",
              "        vertical-align: middle;\n",
              "    }\n",
              "\n",
              "    .dataframe tbody tr th {\n",
              "        vertical-align: top;\n",
              "    }\n",
              "\n",
              "    .dataframe thead th {\n",
              "        text-align: right;\n",
              "    }\n",
              "</style>\n",
              "<table border=\"1\" class=\"dataframe\">\n",
              "  <thead>\n",
              "    <tr style=\"text-align: right;\">\n",
              "      <th></th>\n",
              "      <th>userId</th>\n",
              "      <th>productId</th>\n",
              "      <th>ratings</th>\n",
              "    </tr>\n",
              "  </thead>\n",
              "  <tbody>\n",
              "    <tr>\n",
              "      <th>165369</th>\n",
              "      <td>14107</td>\n",
              "      <td>270137</td>\n",
              "      <td>5.0</td>\n",
              "    </tr>\n",
              "    <tr>\n",
              "      <th>172542</th>\n",
              "      <td>16138</td>\n",
              "      <td>132574</td>\n",
              "      <td>5.0</td>\n",
              "    </tr>\n",
              "    <tr>\n",
              "      <th>172544</th>\n",
              "      <td>16138</td>\n",
              "      <td>148466</td>\n",
              "      <td>5.0</td>\n",
              "    </tr>\n",
              "    <tr>\n",
              "      <th>172545</th>\n",
              "      <td>16138</td>\n",
              "      <td>38717</td>\n",
              "      <td>5.0</td>\n",
              "    </tr>\n",
              "    <tr>\n",
              "      <th>172546</th>\n",
              "      <td>16138</td>\n",
              "      <td>133109</td>\n",
              "      <td>5.0</td>\n",
              "    </tr>\n",
              "  </tbody>\n",
              "</table>\n",
              "</div>"
            ],
            "text/plain": [
              "        userId  productId  ratings\n",
              "165369   14107     270137      5.0\n",
              "172542   16138     132574      5.0\n",
              "172544   16138     148466      5.0\n",
              "172545   16138      38717      5.0\n",
              "172546   16138     133109      5.0"
            ]
          },
          "execution_count": 829,
          "metadata": {},
          "output_type": "execute_result"
        }
      ],
      "source": [
        "topuser_ratings_df.sort_values(by='ratings', ascending=False).head()"
      ]
    },
    {
      "cell_type": "code",
      "execution_count": 830,
      "metadata": {
        "id": "Elrb31AZVTX9"
      },
      "outputs": [],
      "source": [
        "prodID = df.groupby('productId').count()"
      ]
    },
    {
      "cell_type": "code",
      "execution_count": 831,
      "metadata": {
        "id": "w59Ajg09Vhzi"
      },
      "outputs": [],
      "source": [
        "top_prod = prodID[prodID['ratings'] >= 10].index"
      ]
    },
    {
      "cell_type": "code",
      "execution_count": 832,
      "metadata": {
        "id": "9kP644frVo0C"
      },
      "outputs": [],
      "source": [
        "top_ratings_df = topuser_ratings_df[topuser_ratings_df['productId'].isin(top_prod)]"
      ]
    },
    {
      "cell_type": "code",
      "execution_count": 833,
      "metadata": {
        "colab": {
          "base_uri": "https://localhost:8080/",
          "height": 204
        },
        "id": "_CnFpXPtVp_s",
        "outputId": "2c30e2da-9ab6-426c-de0d-bd2d99b461c3"
      },
      "outputs": [
        {
          "data": {
            "text/html": [
              "<div>\n",
              "<style scoped>\n",
              "    .dataframe tbody tr th:only-of-type {\n",
              "        vertical-align: middle;\n",
              "    }\n",
              "\n",
              "    .dataframe tbody tr th {\n",
              "        vertical-align: top;\n",
              "    }\n",
              "\n",
              "    .dataframe thead th {\n",
              "        text-align: right;\n",
              "    }\n",
              "</style>\n",
              "<table border=\"1\" class=\"dataframe\">\n",
              "  <thead>\n",
              "    <tr style=\"text-align: right;\">\n",
              "      <th></th>\n",
              "      <th>userId</th>\n",
              "      <th>productId</th>\n",
              "      <th>ratings</th>\n",
              "    </tr>\n",
              "  </thead>\n",
              "  <tbody>\n",
              "    <tr>\n",
              "      <th>1766</th>\n",
              "      <td>59</td>\n",
              "      <td>219518</td>\n",
              "      <td>5.0</td>\n",
              "    </tr>\n",
              "    <tr>\n",
              "      <th>192534</th>\n",
              "      <td>19998</td>\n",
              "      <td>91388</td>\n",
              "      <td>5.0</td>\n",
              "    </tr>\n",
              "    <tr>\n",
              "      <th>193881</th>\n",
              "      <td>19998</td>\n",
              "      <td>34359</td>\n",
              "      <td>5.0</td>\n",
              "    </tr>\n",
              "    <tr>\n",
              "      <th>193850</th>\n",
              "      <td>19998</td>\n",
              "      <td>34359</td>\n",
              "      <td>5.0</td>\n",
              "    </tr>\n",
              "    <tr>\n",
              "      <th>193779</th>\n",
              "      <td>19998</td>\n",
              "      <td>34359</td>\n",
              "      <td>5.0</td>\n",
              "    </tr>\n",
              "  </tbody>\n",
              "</table>\n",
              "</div>"
            ],
            "text/plain": [
              "        userId  productId  ratings\n",
              "1766        59     219518      5.0\n",
              "192534   19998      91388      5.0\n",
              "193881   19998      34359      5.0\n",
              "193850   19998      34359      5.0\n",
              "193779   19998      34359      5.0"
            ]
          },
          "execution_count": 833,
          "metadata": {},
          "output_type": "execute_result"
        }
      ],
      "source": [
        "top_ratings_df.sort_values(by='ratings', ascending=False).head()"
      ]
    },
    {
      "cell_type": "markdown",
      "metadata": {
        "id": "-wG18WffZz3J"
      },
      "source": [
        "#### Conversion to surprise format"
      ]
    },
    {
      "cell_type": "code",
      "execution_count": 834,
      "metadata": {
        "id": "Y35ojjihoRAi"
      },
      "outputs": [],
      "source": [
        "reader = Reader(rating_scale=(1, 5))"
      ]
    },
    {
      "cell_type": "code",
      "execution_count": 835,
      "metadata": {
        "id": "hs-S09cBolqd"
      },
      "outputs": [],
      "source": [
        "data = Dataset.load_from_df(top_ratings_df[['userId', 'productId', 'ratings']],reader)"
      ]
    },
    {
      "cell_type": "markdown",
      "metadata": {
        "id": "0b6LHKkNZ81B"
      },
      "source": [
        "#### Model training"
      ]
    },
    {
      "cell_type": "code",
      "execution_count": 836,
      "metadata": {
        "id": "OCv4NaoUovEM"
      },
      "outputs": [],
      "source": [
        "from surprise.model_selection import train_test_split\n",
        "trainset, testset = train_test_split(data, test_size=0.3,random_state=0)\n"
      ]
    },
    {
      "cell_type": "markdown",
      "metadata": {},
      "source": [
        "### KNNZscore"
      ]
    },
    {
      "cell_type": "code",
      "execution_count": 837,
      "metadata": {},
      "outputs": [
        {
          "name": "stdout",
          "output_type": "stream",
          "text": [
            "Estimating biases using als...\n",
            "Computing the pearson_baseline similarity matrix...\n",
            "Done computing similarity matrix.\n",
            "KNNWithZScore - First prediction: user: 19998      item: 227291     r_ui = 5.00   est = 5.00   {'actual_k': 9, 'was_impossible': False}\n",
            "RMSE: 0.9185\n",
            "KNNWithZScore - RMSE: 0.9184756663258046\n",
            "MAE:  0.5486\n",
            "KNNWithZScore - MAE: 0.5485678372303386\n",
            "RMSE: 0.9185\n",
            "MAE:  0.5486\n"
          ]
        }
      ],
      "source": [
        "# Define and train the KNNWithZScore model\n",
        "knn_zscore = KNNWithZScore(k=10, min_k=6, sim_options={'name': 'pearson_baseline', 'user_based': True})\n",
        "knn_zscore.fit(trainset)\n",
        "# Evaluate on test set\n",
        "test_pred_knn_zscore = knn_zscore.test(testset)\n",
        "RS_pred[\"actual\"] = [pred.r_ui for pred in test_pred_knn_zscore]\n",
        "RS_pred[\"KNN(Zscore)\"] = [pred.est for pred in test_pred_knn_zscore]\n",
        "\n",
        "# Print first prediction\n",
        "print(\"KNNWithZScore - First prediction:\", test_pred_knn_zscore[0])\n",
        "# Compute RMSE and MAE\n",
        "print(\"KNNWithZScore - RMSE:\", accuracy.rmse(test_pred_knn_zscore))\n",
        "print(\"KNNWithZScore - MAE:\", accuracy.mae(test_pred_knn_zscore))\n",
        "\n",
        "error_results[\"KNN(Zscore)\"] = [accuracy.rmse(test_pred_knn_zscore), accuracy.mae(test_pred_knn_zscore)]"
      ]
    },
    {
      "cell_type": "markdown",
      "metadata": {},
      "source": [
        "### Baselineonly"
      ]
    },
    {
      "cell_type": "code",
      "execution_count": 838,
      "metadata": {},
      "outputs": [
        {
          "name": "stdout",
          "output_type": "stream",
          "text": [
            "Estimating biases using als...\n",
            "BaselineOnly - First prediction: user: 19998      item: 227291     r_ui = 5.00   est = 4.83   {'was_impossible': False}\n",
            "RMSE: 0.7943\n",
            "BaselineOnly - RMSE: 0.7942819274490972\n",
            "MAE:  0.5530\n",
            "BaselineOnly - MAE: 0.5529601781236372\n",
            "RMSE: 0.7943\n",
            "MAE:  0.5530\n"
          ]
        }
      ],
      "source": [
        "# Define and train the BaselineOnly model\n",
        "baseline_only = BaselineOnly()\n",
        "baseline_only.fit(trainset)\n",
        "# Evaluate on test set\n",
        "test_pred_baseline_only = baseline_only.test(testset)\n",
        "RS_pred[\"baseline\"] = [pred.est for pred in test_pred_baseline_only]\n",
        "\n",
        "# Print first prediction\n",
        "print(\"BaselineOnly - First prediction:\", test_pred_baseline_only[0])\n",
        "# Compute RMSE and MAE\n",
        "print(\"BaselineOnly - RMSE:\", accuracy.rmse(test_pred_baseline_only))\n",
        "print(\"BaselineOnly - MAE:\", accuracy.mae(test_pred_baseline_only))\n",
        "\n",
        "error_results[\"baseline\"] = [accuracy.rmse(test_pred_baseline_only), accuracy.mae(test_pred_baseline_only)]"
      ]
    },
    {
      "cell_type": "markdown",
      "metadata": {},
      "source": [
        "### CoClustering"
      ]
    },
    {
      "cell_type": "code",
      "execution_count": 839,
      "metadata": {},
      "outputs": [
        {
          "name": "stdout",
          "output_type": "stream",
          "text": [
            "CoClustering - First prediction: user: 19998      item: 227291     r_ui = 5.00   est = 5.00   {'was_impossible': False}\n",
            "RMSE: 1.0270\n",
            "CoClustering - RMSE: 1.0269819815471133\n",
            "MAE:  0.6571\n",
            "CoClustering - MAE: 0.6571376354905716\n",
            "RMSE: 1.0270\n",
            "MAE:  0.6571\n"
          ]
        }
      ],
      "source": [
        "# Define and train the CoClustering model\n",
        "coclustering = CoClustering()\n",
        "coclustering.fit(trainset)\n",
        "# Evaluate on test set\n",
        "test_pred_coclustering = coclustering.test(testset)\n",
        "RS_pred[\"CoClustering\"] = [pred.est for pred in test_pred_coclustering]\n",
        "\n",
        "# Print first prediction\n",
        "print(\"CoClustering - First prediction:\", test_pred_coclustering[0])\n",
        "# Compute RMSE and MAE\n",
        "print(\"CoClustering - RMSE:\", accuracy.rmse(test_pred_coclustering))\n",
        "print(\"CoClustering - MAE:\", accuracy.mae(test_pred_coclustering))\n",
        "\n",
        "error_results[\"CoClustering\"] = [accuracy.rmse(test_pred_coclustering), accuracy.mae(test_pred_coclustering)]"
      ]
    },
    {
      "cell_type": "markdown",
      "metadata": {},
      "source": [
        "### KNNBaseline"
      ]
    },
    {
      "cell_type": "code",
      "execution_count": 840,
      "metadata": {},
      "outputs": [
        {
          "name": "stdout",
          "output_type": "stream",
          "text": [
            "Estimating biases using als...\n",
            "Computing the pearson_baseline similarity matrix...\n",
            "Done computing similarity matrix.\n",
            "user: 19998      item: 227291     r_ui = 5.00   est = 5.00   {'actual_k': 9, 'was_impossible': False}\n",
            "RMSE: 0.7904\n",
            "rmse:  0.790409193806567\n",
            "MAE:  0.5205\n",
            "mae:  0.5205353089915976\n",
            "RMSE: 0.7904\n",
            "MAE:  0.5205\n"
          ]
        }
      ],
      "source": [
        "# Create and train the model\n",
        "model = KNNBaseline(k=10, min_k=6, sim_options={'name': 'pearson_baseline', 'user_based': True})\n",
        "model.fit(trainset)\n",
        "\n",
        "# Evaluate on test set\n",
        "test_pred = model.test(testset)\n",
        "RS_pred[\"KNN(Base)\"] = [pred.est for pred in test_pred]\n",
        "\n",
        "# Print first prediction\n",
        "print(test_pred[0])\n",
        "\n",
        "# Compute RMSE\n",
        "print(\"rmse: \", accuracy.rmse(test_pred))\n",
        "\n",
        "# Compute MAE\n",
        "print(\"mae: \", accuracy.mae(test_pred))\n",
        "\n",
        "error_results[\"KNN(Base)\"] = [accuracy.rmse(test_pred), accuracy.mae(test_pred)]"
      ]
    },
    {
      "cell_type": "markdown",
      "metadata": {},
      "source": [
        "### Normal Predictor"
      ]
    },
    {
      "cell_type": "code",
      "execution_count": 841,
      "metadata": {},
      "outputs": [
        {
          "name": "stdout",
          "output_type": "stream",
          "text": [
            "user: 19998      item: 227291     r_ui = 5.00   est = 5.00   {'was_impossible': False}\n",
            "RMSE: 1.0766\n",
            "rmse:  1.0765515145456717\n",
            "MAE:  0.7703\n",
            "mae:  0.7703320391164097\n",
            "RMSE: 1.0766\n",
            "MAE:  0.7703\n"
          ]
        }
      ],
      "source": [
        "model = NormalPredictor()\n",
        "model.fit(trainset)\n",
        "\n",
        "# Evaluate on test set\n",
        "test_pred = model.test(testset)\n",
        "RS_pred[\"NormalPredictor\"] = [pred.est for pred in test_pred]\n",
        "# Print first prediction\n",
        "print(test_pred[0])\n",
        "\n",
        "# Compute RMSE\n",
        "print(\"rmse: \", accuracy.rmse(test_pred))\n",
        "\n",
        "# Compute MAE\n",
        "print(\"mae: \", accuracy.mae(test_pred))\n",
        "\n",
        "error_results[\"NormalPredictor\"] = [accuracy.rmse(test_pred), accuracy.mae(test_pred)]"
      ]
    },
    {
      "cell_type": "markdown",
      "metadata": {},
      "source": [
        "### KNN Basic"
      ]
    },
    {
      "cell_type": "code",
      "execution_count": 842,
      "metadata": {},
      "outputs": [
        {
          "name": "stdout",
          "output_type": "stream",
          "text": [
            "Estimating biases using als...\n",
            "Computing the pearson_baseline similarity matrix...\n",
            "Done computing similarity matrix.\n",
            "user: 19998      item: 227291     r_ui = 5.00   est = 5.00   {'actual_k': 9, 'was_impossible': False}\n",
            "RMSE: 0.9081\n",
            "rmse:  0.9080861280684894\n",
            "MAE:  0.6151\n",
            "mae:  0.6151440423970467\n",
            "RMSE: 0.9081\n",
            "MAE:  0.6151\n"
          ]
        }
      ],
      "source": [
        "# Create and train the model\n",
        "model = KNNBasic(k=10, min_k=6, sim_options={'name': 'pearson_baseline', 'user_based': True})\n",
        "model.fit(trainset)\n",
        "\n",
        "# Evaluate on test set\n",
        "test_pred = model.test(testset)\n",
        "RS_pred[\"KNN(Basic)\"] = [pred.est for pred in test_pred]\n",
        "\n",
        "# Print first prediction\n",
        "print(test_pred[0])\n",
        "\n",
        "# Compute RMSE\n",
        "print(\"rmse: \", accuracy.rmse(test_pred))\n",
        "\n",
        "# Compute MAE\n",
        "print(\"mae: \", accuracy.mae(test_pred))\n",
        "\n",
        "error_results[\"KNN(Basic)\"] = [accuracy.rmse(test_pred), accuracy.mae(test_pred)]"
      ]
    },
    {
      "cell_type": "markdown",
      "metadata": {
        "id": "ksSCD0jOaNqs"
      },
      "source": [
        "#### KNN with means"
      ]
    },
    {
      "cell_type": "code",
      "execution_count": 843,
      "metadata": {
        "colab": {
          "base_uri": "https://localhost:8080/"
        },
        "id": "4yU5nkhao9FP",
        "outputId": "c1346500-90b9-4f08-bd26-f7f3b359e1da"
      },
      "outputs": [
        {
          "name": "stdout",
          "output_type": "stream",
          "text": [
            "Estimating biases using als...\n",
            "Computing the pearson_baseline similarity matrix...\n",
            "Done computing similarity matrix.\n",
            "user: 19998      item: 227291     r_ui = 5.00   est = 5.00   {'actual_k': 9, 'was_impossible': False}\n",
            "RMSE: 0.9185\n",
            "rmse:  0.9184765655412915\n",
            "MAE:  0.5486\n",
            "mae:  0.5485574744088032\n",
            "RMSE: 0.9185\n",
            "MAE:  0.5486\n"
          ]
        }
      ],
      "source": [
        "model = KNNWithMeans(k=10, min_k=6, sim_options={'name': 'pearson_baseline', 'user_based': True})\n",
        "model.fit(trainset)\n",
        "\n",
        "# Evalute on test set\n",
        "test_pred = model.test(testset)\n",
        "RS_pred[\"KNN(Means)\"] = [pred.est for pred in test_pred]\n",
        "\n",
        "print(test_pred[0])\n",
        "\n",
        "# compute RMSE\n",
        "print(\"rmse: \", accuracy.rmse(test_pred))\n",
        "\n",
        "# compute MAE\n",
        "print(\"mae: \", accuracy.mae(test_pred))\n",
        "\n",
        "error_results[\"KNN(Means)\"] = [accuracy.rmse(test_pred), accuracy.mae(test_pred)]"
      ]
    },
    {
      "cell_type": "markdown",
      "metadata": {
        "id": "AscKLc0zaTf9"
      },
      "source": [
        "#### SVD"
      ]
    },
    {
      "cell_type": "code",
      "execution_count": 844,
      "metadata": {
        "colab": {
          "base_uri": "https://localhost:8080/"
        },
        "id": "GAtiTdIopDs3",
        "outputId": "7889495a-43ba-4fc6-a355-c1bf9b3c5eab"
      },
      "outputs": [
        {
          "name": "stdout",
          "output_type": "stream",
          "text": [
            "RMSE: 0.7612\n",
            "rmse:  0.7612291587984437\n",
            "MAE:  0.5034\n",
            "mae:  0.5034283855663702\n",
            "RMSE: 0.7612\n",
            "MAE:  0.5034\n"
          ]
        }
      ],
      "source": [
        "svd_model = SVD(n_factors=50,reg_all=0.02)\n",
        "svd_model.fit(trainset)\n",
        "\n",
        "test_pred = svd_model.test(testset)\n",
        "RS_pred[\"SVD\"] = [pred.est for pred in test_pred]\n",
        "\n",
        "# compute RMSE\n",
        "print(\"rmse: \", accuracy.rmse(test_pred))\n",
        "\n",
        "# compute MAE\n",
        "print(\"mae: \", accuracy.mae(test_pred))\n",
        "\n",
        "error_results[\"SVD\"]= [accuracy.rmse(test_pred), accuracy.mae(test_pred)]"
      ]
    },
    {
      "cell_type": "markdown",
      "metadata": {
        "id": "gE8QuUNhbqc2"
      },
      "source": [
        "# Recommending 5 Products."
      ]
    },
    {
      "cell_type": "code",
      "execution_count": 845,
      "metadata": {
        "id": "Qk-8nD83qloj"
      },
      "outputs": [],
      "source": [
        "from collections import defaultdict\n",
        "def get_top_n(predictions, n=5):\n",
        "  \n",
        "    # First map the predictions to each user.\n",
        "    top_n = defaultdict(list)\n",
        "    for uid, iid, true_r, est, _ in predictions:\n",
        "        top_n[uid].append((iid, est))\n",
        "\n",
        "    # Then sort the predictions for each user and retrieve the k highest ones.\n",
        "    for uid, user_ratings in top_n.items():\n",
        "        user_ratings.sort(key=lambda x: x[1], reverse=True)\n",
        "        top_n[uid] = user_ratings[:n]\n",
        "\n",
        "    return top_n"
      ]
    },
    {
      "cell_type": "code",
      "execution_count": 846,
      "metadata": {
        "id": "xl0JiikDq3z-"
      },
      "outputs": [],
      "source": [
        "top_n = get_top_n(test_pred, n=5)"
      ]
    },
    {
      "cell_type": "code",
      "execution_count": 847,
      "metadata": {
        "colab": {
          "base_uri": "https://localhost:8080/"
        },
        "id": "yUd2pDp_q7RJ",
        "outputId": "f7569977-303f-4d45-8e24-4df628e97430"
      },
      "outputs": [
        {
          "name": "stdout",
          "output_type": "stream",
          "text": [
            "19998 [227291, 227291, 227291, 34359, 238247]\n",
            "16195 [4601]\n",
            "565 [205134]\n",
            "27199 [186892]\n",
            "2065 [171362, 36119, 73068, 296760, 296760]\n",
            "16950 [61347]\n",
            "921 [49845, 80269, 80269, 213043, 213043]\n",
            "26642 [4601]\n",
            "1381 [36119, 73068]\n",
            "17973 [238247]\n",
            "1165 [227291]\n",
            "7060 [36119]\n",
            "29586 [312045, 312045, 4214, 4214, 4214]\n",
            "10003 [49282]\n",
            "2152 [237636, 237636, 213043, 80269, 213043]\n",
            "9379 [296760]\n",
            "1439 [285002]\n",
            "27956 [49282]\n",
            "5537 [91388]\n",
            "678 [80269, 17246, 187318]\n",
            "59 [219518]\n",
            "6539 [287554, 287554, 287554, 287554]\n",
            "8182 [273362]\n",
            "27192 [186892]\n",
            "4646 [285002]\n",
            "16075 [116821]\n",
            "23337 [168083]\n",
            "16163 [186892]\n",
            "3885 [131912]\n",
            "1772 [237636, 239855, 213043]\n",
            "1059 [171362, 131912]\n",
            "25633 [75759]\n",
            "6841 [131912]\n",
            "9699 [136578]\n",
            "2856 [116821, 91388]\n",
            "2824 [91388]\n",
            "24275 [125190]\n",
            "4673 [136578]\n",
            "28547 [73068]\n",
            "16802 [49282]\n",
            "30966 [4601]\n",
            "16170 [219518]\n",
            "22466 [73068]\n",
            "10314 [186892]\n",
            "22858 [49282]\n",
            "31933 [242573]\n",
            "2151 [125190, 125190]\n",
            "1927 [162640]\n",
            "17055 [162640]\n",
            "29410 [136578]\n",
            "21982 [239855]\n",
            "16162 [219518]\n",
            "30166 [168083]\n",
            "16617 [172081]\n",
            "22947 [49282]\n",
            "19013 [273362]\n",
            "16308 [219518]\n",
            "1167 [34359]\n",
            "1278 [251345]\n",
            "10842 [49282]\n",
            "4821 [136578]\n",
            "3768 [168083, 162640]\n",
            "2859 [116821]\n",
            "13204 [5942]\n",
            "904 [230775]\n",
            "905 [238247]\n",
            "4987 [273362]\n",
            "24439 [168083]\n",
            "19850 [5942]\n",
            "7618 [239855]\n",
            "20150 [164195]\n",
            "23344 [61347]\n",
            "4644 [125190]\n",
            "25343 [49282]\n",
            "21868 [73068]\n",
            "24326 [73068]\n",
            "12517 [239855]\n",
            "9211 [146445]\n",
            "16946 [168083]\n",
            "23958 [131912]\n",
            "25122 [75759]\n",
            "28442 [273362]\n",
            "4389 [49282]\n",
            "6094 [282773, 136578]\n",
            "5575 [34359]\n",
            "11899 [34359]\n",
            "7803 [273362]\n",
            "383 [136578]\n",
            "29575 [242573]\n",
            "6333 [136578]\n",
            "14213 [5942]\n",
            "22315 [172081]\n",
            "2085 [173588]\n",
            "4203 [205134]\n"
          ]
        }
      ],
      "source": [
        "for uid, user_ratings in top_n.items():\n",
        "    print(uid, [iid for (iid, _) in user_ratings])"
      ]
    },
    {
      "cell_type": "code",
      "execution_count": 848,
      "metadata": {
        "id": "ePfIqzdjrA1B"
      },
      "outputs": [
        {
          "data": {
            "text/plain": [
              "{'KNN(Zscore)': [0.9184756663258046, 0.5485678372303386],\n",
              " 'baseline': [0.7942819274490972, 0.5529601781236372],\n",
              " 'CoClustering': [1.0269819815471133, 0.6571376354905716],\n",
              " 'KNN(Base)': [0.790409193806567, 0.5205353089915976],\n",
              " 'NormalPredictor': [1.0765515145456717, 0.7703320391164097],\n",
              " 'KNN(Basic)': [0.9080861280684894, 0.6151440423970467],\n",
              " 'KNN(Means)': [0.9184765655412915, 0.5485574744088032],\n",
              " 'SVD': [0.7612291587984437, 0.5034283855663702]}"
            ]
          },
          "execution_count": 848,
          "metadata": {},
          "output_type": "execute_result"
        }
      ],
      "source": [
        "error_results"
      ]
    },
    {
      "cell_type": "code",
      "execution_count": 850,
      "metadata": {},
      "outputs": [
        {
          "data": {
            "text/html": [
              "<div>\n",
              "<style scoped>\n",
              "    .dataframe tbody tr th:only-of-type {\n",
              "        vertical-align: middle;\n",
              "    }\n",
              "\n",
              "    .dataframe tbody tr th {\n",
              "        vertical-align: top;\n",
              "    }\n",
              "\n",
              "    .dataframe thead th {\n",
              "        text-align: right;\n",
              "    }\n",
              "</style>\n",
              "<table border=\"1\" class=\"dataframe\">\n",
              "  <thead>\n",
              "    <tr style=\"text-align: right;\">\n",
              "      <th></th>\n",
              "      <th>actual</th>\n",
              "      <th>KNN(Zscore)</th>\n",
              "      <th>baseline</th>\n",
              "      <th>CoClustering</th>\n",
              "      <th>KNN(Base)</th>\n",
              "      <th>NormalPredictor</th>\n",
              "      <th>KNN(Basic)</th>\n",
              "      <th>KNN(Means)</th>\n",
              "      <th>SVD</th>\n",
              "    </tr>\n",
              "  </thead>\n",
              "  <tbody>\n",
              "    <tr>\n",
              "      <th>0</th>\n",
              "      <td>(19998, 227291, 5.0)</td>\n",
              "      <td>(19998, 227291, 5.0, 4.998261877172654, {'actu...</td>\n",
              "      <td>(19998, 227291, 5.0, 4.830479505632967, {'was_...</td>\n",
              "      <td>(19998, 227291, 5.0, 5, {'was_impossible': Fal...</td>\n",
              "      <td>(19998, 227291, 5.0, 5, {'actual_k': 9, 'was_i...</td>\n",
              "      <td>(19998, 227291, 5.0, 5, {'was_impossible': Fal...</td>\n",
              "      <td>(19998, 227291, 5.0, 5, {'actual_k': 9, 'was_i...</td>\n",
              "      <td>(19998, 227291, 5.0, 4.998261877172654, {'actu...</td>\n",
              "      <td>(19998, 227291, 5.0, 4.951447351595428, {'was_...</td>\n",
              "    </tr>\n",
              "    <tr>\n",
              "      <th>1</th>\n",
              "      <td>(16195, 4601, 5.0)</td>\n",
              "      <td>(16195, 4601, 5.0, 4.538226299694189, {'was_im...</td>\n",
              "      <td>(16195, 4601, 5.0, 4.682557885539537, {'was_im...</td>\n",
              "      <td>(16195, 4601, 5.0, 4.538226299694189, {'was_im...</td>\n",
              "      <td>(16195, 4601, 5.0, 4.682557885539537, {'was_im...</td>\n",
              "      <td>(16195, 4601, 5.0, 4.78885243671348, {'was_imp...</td>\n",
              "      <td>(16195, 4601, 5.0, 4.538226299694189, {'was_im...</td>\n",
              "      <td>(16195, 4601, 5.0, 4.538226299694189, {'was_im...</td>\n",
              "      <td>(16195, 4601, 5.0, 4.744235889335578, {'was_im...</td>\n",
              "    </tr>\n",
              "    <tr>\n",
              "      <th>2</th>\n",
              "      <td>(565, 205134, 5.0)</td>\n",
              "      <td>(565, 205134, 5.0, 4.5, {'actual_k': 5, 'was_i...</td>\n",
              "      <td>(565, 205134, 5.0, 4.539729029039523, {'was_im...</td>\n",
              "      <td>(565, 205134, 5.0, 4.42523291925466, {'was_imp...</td>\n",
              "      <td>(565, 205134, 5.0, 4.539729029039523, {'actual...</td>\n",
              "      <td>(565, 205134, 5.0, 4.050362870388411, {'was_im...</td>\n",
              "      <td>(565, 205134, 5.0, 4.538226299694189, {'was_im...</td>\n",
              "      <td>(565, 205134, 5.0, 4.5, {'actual_k': 5, 'was_i...</td>\n",
              "      <td>(565, 205134, 5.0, 4.474741922281375, {'was_im...</td>\n",
              "    </tr>\n",
              "    <tr>\n",
              "      <th>3</th>\n",
              "      <td>(27199, 186892, 3.0)</td>\n",
              "      <td>(27199, 186892, 3.0, 4.538226299694189, {'was_...</td>\n",
              "      <td>(27199, 186892, 3.0, 4.494111523196044, {'was_...</td>\n",
              "      <td>(27199, 186892, 3.0, 4.538226299694189, {'was_...</td>\n",
              "      <td>(27199, 186892, 3.0, 4.494111523196044, {'was_...</td>\n",
              "      <td>(27199, 186892, 3.0, 4.254720514990601, {'was_...</td>\n",
              "      <td>(27199, 186892, 3.0, 4.538226299694189, {'was_...</td>\n",
              "      <td>(27199, 186892, 3.0, 4.538226299694189, {'was_...</td>\n",
              "      <td>(27199, 186892, 3.0, 4.490387626538262, {'was_...</td>\n",
              "    </tr>\n",
              "    <tr>\n",
              "      <th>4</th>\n",
              "      <td>(2065, 36119, 4.0)</td>\n",
              "      <td>(2065, 36119, 4.0, 4.285714285714286, {'actual...</td>\n",
              "      <td>(2065, 36119, 4.0, 4.432070692951203, {'was_im...</td>\n",
              "      <td>(2065, 36119, 4.0, 3.5539480374617023, {'was_i...</td>\n",
              "      <td>(2065, 36119, 4.0, 4.432070692951203, {'actual...</td>\n",
              "      <td>(2065, 36119, 4.0, 4.534067360586755, {'was_im...</td>\n",
              "      <td>(2065, 36119, 4.0, 4.538226299694189, {'was_im...</td>\n",
              "      <td>(2065, 36119, 4.0, 4.285714285714286, {'actual...</td>\n",
              "      <td>(2065, 36119, 4.0, 4.372690997065206, {'was_im...</td>\n",
              "    </tr>\n",
              "  </tbody>\n",
              "</table>\n",
              "</div>"
            ],
            "text/plain": [
              "                 actual                                        KNN(Zscore)  \\\n",
              "0  (19998, 227291, 5.0)  (19998, 227291, 5.0, 4.998261877172654, {'actu...   \n",
              "1    (16195, 4601, 5.0)  (16195, 4601, 5.0, 4.538226299694189, {'was_im...   \n",
              "2    (565, 205134, 5.0)  (565, 205134, 5.0, 4.5, {'actual_k': 5, 'was_i...   \n",
              "3  (27199, 186892, 3.0)  (27199, 186892, 3.0, 4.538226299694189, {'was_...   \n",
              "4    (2065, 36119, 4.0)  (2065, 36119, 4.0, 4.285714285714286, {'actual...   \n",
              "\n",
              "                                            baseline  \\\n",
              "0  (19998, 227291, 5.0, 4.830479505632967, {'was_...   \n",
              "1  (16195, 4601, 5.0, 4.682557885539537, {'was_im...   \n",
              "2  (565, 205134, 5.0, 4.539729029039523, {'was_im...   \n",
              "3  (27199, 186892, 3.0, 4.494111523196044, {'was_...   \n",
              "4  (2065, 36119, 4.0, 4.432070692951203, {'was_im...   \n",
              "\n",
              "                                        CoClustering  \\\n",
              "0  (19998, 227291, 5.0, 5, {'was_impossible': Fal...   \n",
              "1  (16195, 4601, 5.0, 4.538226299694189, {'was_im...   \n",
              "2  (565, 205134, 5.0, 4.42523291925466, {'was_imp...   \n",
              "3  (27199, 186892, 3.0, 4.538226299694189, {'was_...   \n",
              "4  (2065, 36119, 4.0, 3.5539480374617023, {'was_i...   \n",
              "\n",
              "                                           KNN(Base)  \\\n",
              "0  (19998, 227291, 5.0, 5, {'actual_k': 9, 'was_i...   \n",
              "1  (16195, 4601, 5.0, 4.682557885539537, {'was_im...   \n",
              "2  (565, 205134, 5.0, 4.539729029039523, {'actual...   \n",
              "3  (27199, 186892, 3.0, 4.494111523196044, {'was_...   \n",
              "4  (2065, 36119, 4.0, 4.432070692951203, {'actual...   \n",
              "\n",
              "                                     NormalPredictor  \\\n",
              "0  (19998, 227291, 5.0, 5, {'was_impossible': Fal...   \n",
              "1  (16195, 4601, 5.0, 4.78885243671348, {'was_imp...   \n",
              "2  (565, 205134, 5.0, 4.050362870388411, {'was_im...   \n",
              "3  (27199, 186892, 3.0, 4.254720514990601, {'was_...   \n",
              "4  (2065, 36119, 4.0, 4.534067360586755, {'was_im...   \n",
              "\n",
              "                                          KNN(Basic)  \\\n",
              "0  (19998, 227291, 5.0, 5, {'actual_k': 9, 'was_i...   \n",
              "1  (16195, 4601, 5.0, 4.538226299694189, {'was_im...   \n",
              "2  (565, 205134, 5.0, 4.538226299694189, {'was_im...   \n",
              "3  (27199, 186892, 3.0, 4.538226299694189, {'was_...   \n",
              "4  (2065, 36119, 4.0, 4.538226299694189, {'was_im...   \n",
              "\n",
              "                                          KNN(Means)  \\\n",
              "0  (19998, 227291, 5.0, 4.998261877172654, {'actu...   \n",
              "1  (16195, 4601, 5.0, 4.538226299694189, {'was_im...   \n",
              "2  (565, 205134, 5.0, 4.5, {'actual_k': 5, 'was_i...   \n",
              "3  (27199, 186892, 3.0, 4.538226299694189, {'was_...   \n",
              "4  (2065, 36119, 4.0, 4.285714285714286, {'actual...   \n",
              "\n",
              "                                                 SVD  \n",
              "0  (19998, 227291, 5.0, 4.951447351595428, {'was_...  \n",
              "1  (16195, 4601, 5.0, 4.744235889335578, {'was_im...  \n",
              "2  (565, 205134, 5.0, 4.474741922281375, {'was_im...  \n",
              "3  (27199, 186892, 3.0, 4.490387626538262, {'was_...  \n",
              "4  (2065, 36119, 4.0, 4.372690997065206, {'was_im...  "
            ]
          },
          "execution_count": 850,
          "metadata": {},
          "output_type": "execute_result"
        }
      ],
      "source": [
        "RS_pred.head()"
      ]
    }
  ],
  "metadata": {
    "colab": {
      "collapsed_sections": [],
      "include_colab_link": true,
      "name": "Product Recommendation Engine - Capstone Project.ipynb",
      "provenance": [],
      "toc_visible": true
    },
    "kernelspec": {
      "display_name": "Python 3",
      "language": "python",
      "name": "python3"
    },
    "language_info": {
      "codemirror_mode": {
        "name": "ipython",
        "version": 3
      },
      "file_extension": ".py",
      "mimetype": "text/x-python",
      "name": "python",
      "nbconvert_exporter": "python",
      "pygments_lexer": "ipython3",
      "version": "3.8.19"
    }
  },
  "nbformat": 4,
  "nbformat_minor": 0
}
