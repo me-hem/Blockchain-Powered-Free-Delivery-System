{
 "cells": [
  {
   "cell_type": "code",
   "execution_count": null,
   "metadata": {},
   "outputs": [],
   "source": [
    "import json\n",
    "import pandas as pd\n",
    "import time\n",
    "\n",
    "\n",
    "# Load the CSV file into a Pandas DataFrame\n",
    "df = pd.read_csv(\"/home/ethereum/SNCS/SNCS_Data/ProcessedData/order100K.csv\")\n",
    "# df = df.head(10000)\n",
    "df.head()"
   ]
  },
  {
   "cell_type": "code",
   "execution_count": null,
   "metadata": {},
   "outputs": [],
   "source": [
    "df.shape"
   ]
  },
  {
   "cell_type": "markdown",
   "metadata": {},
   "source": [
    "# Naive Analysis"
   ]
  },
  {
   "cell_type": "code",
   "execution_count": null,
   "metadata": {},
   "outputs": [],
   "source": [
    "# # Record the start time for performance measurement\n",
    "# start_time = time.perf_counter()\n",
    "\n",
    "# # Set the threshold for free delivery\n",
    "# threshold = 200000\n",
    "\n",
    "# # Initialize a list to store free delivery status for each order\n",
    "# free_delivery = []\n",
    "\n",
    "# # Loop through each row in the DataFrame to check if free delivery is applicable\n",
    "# for i in range(df.shape[0]):\n",
    "#     if df.iloc[i, 2] >= threshold:\n",
    "#         free_delivery.append(\"yes\")\n",
    "#     else:\n",
    "#         free_delivery.append(\"no\")\n",
    "\n",
    "# # Add a new column for free delivery status to the DataFrame\n",
    "# df[\"free_delivery\"] = free_delivery\n",
    "\n",
    "# # Save the DataFrame to a CSV file\n",
    "# df.to_csv(\"naiveReward10K.csv\", index=False)\n",
    "\n",
    "# # Record the end time and calculate the processing time\n",
    "# end_time = time.perf_counter()\n",
    "# processing_time = end_time - start_time\n",
    "\n",
    "# # Load existing log data from a JSON file\n",
    "# with open(\"log.json\") as file:\n",
    "#     data = json.load(file)\n",
    "\n",
    "# # Add the processing time for the naive approach to the log data\n",
    "# data[\"10K - naive\"] = processing_time\n",
    "\n",
    "# # Save the updated log data to the JSON file\n",
    "# with open(\"log.json\", 'w') as file:\n",
    "#     json.dump(data, file)\n"
   ]
  },
  {
   "cell_type": "markdown",
   "metadata": {},
   "source": [
    "# HiShip Analysis"
   ]
  },
  {
   "cell_type": "code",
   "execution_count": null,
   "metadata": {},
   "outputs": [],
   "source": [
    "# Initialize a new column with default value \"no\"\n",
    "start_time = time.perf_counter()\n",
    "column = []\n",
    "for i in range(df.shape[0]):\n",
    "    column.append(\"no\")\n",
    "\n",
    "\n",
    "df[\"o_freedelivery\"] = column  # Add the new column to the DataFrame\n",
    "\n",
    "\n",
    "# Function to check if free delivery is applicable based on total spent\n",
    "def check_freedelivery(total_spent, o_totalprice):\n",
    "    threshold = 200000\n",
    "    if (total_spent + float(o_totalprice) >= threshold):\n",
    "        return \"yes\"\n",
    "    else:\n",
    "        return \"no\"\n",
    "\n",
    "\n",
    "def calc_total(o_custkey, o_orderdate, chain):\n",
    "    total_spent = 0\n",
    "    for i in range(chain.shape[0]-1, -1, -1):\n",
    "        tx_date = chain.iloc[i, 3]\n",
    "        spent_time = int(o_orderdate[:4]) - int(tx_date[:4]) + int(o_orderdate[5:7])/12 - int(tx_date[5:7])/12 + int(o_orderdate[8:])/365 - int(tx_date[8:])/365\n",
    "        tx_price = round(chain.iloc[i, 2])\n",
    "        tx_custkey = chain.iloc[i, 1]\n",
    "        tx_freedelivery = chain.iloc[i, 4]\n",
    "        \n",
    "        # Check if the transaction is within 1 year and matches the customer and does not have free delivery\n",
    "        if spent_time <= 1:\n",
    "            if o_custkey == tx_custkey:\n",
    "                if tx_freedelivery == \"no\":\n",
    "                    total_spent += tx_price\n",
    "                else:\n",
    "                    return total_spent\n",
    "        else:\n",
    "            return total_spent\n",
    "    return total_spent\n",
    "\n",
    "# Loop through each row in the DataFrame to calculate total spent and check free delivery eligibility\n",
    "for tx_no in range(df.shape[0]):\n",
    "    total_spent = calc_total(df.iloc[tx_no, 1], df.iloc[tx_no, 3], df.iloc[:tx_no])\n",
    "    print(tx_no+1, \":\", total_spent, \"=>\", check_freedelivery(total_spent, df.iloc[tx_no, 2]))\n",
    "    df.iloc[tx_no, 4] = check_freedelivery(total_spent, df.iloc[tx_no, 2])\n",
    "\n",
    "# Save the DataFrame to a CSV file\n",
    "df.to_csv(\"chainReward100K.csv\", index=False)\n",
    "\n",
    "\n",
    "end_time = time.perf_counter()\n",
    "processing_time = end_time - start_time\n",
    "with open(\"log.json\") as file:\n",
    "    data = json.load(file)\n",
    "\n",
    "data[\"100K - HIShip\"] = processing_time\n",
    "\n",
    "# Save the updated log data to the JSON file\n",
    "with open(\"log.json\", 'w') as file:\n",
    "    json.dump(data, file)\n",
    "\n"
   ]
  },
  {
   "cell_type": "code",
   "execution_count": null,
   "metadata": {},
   "outputs": [],
   "source": [
    "count = 0\n",
    "for i in df[\"O_FREEDELIVERY\"]:\n",
    "    if i == \"yes\":\n",
    "        count += 1\n",
    "count"
   ]
  }
 ],
 "metadata": {
  "kernelspec": {
   "display_name": "Python 3",
   "language": "python",
   "name": "python3"
  },
  "language_info": {
   "codemirror_mode": {
    "name": "ipython",
    "version": 3
   },
   "file_extension": ".py",
   "mimetype": "text/x-python",
   "name": "python",
   "nbconvert_exporter": "python",
   "pygments_lexer": "ipython3",
   "version": "3.10.12"
  }
 },
 "nbformat": 4,
 "nbformat_minor": 2
}
