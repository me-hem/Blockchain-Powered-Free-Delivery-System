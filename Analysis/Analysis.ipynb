{
 "cells": [
  {
   "cell_type": "code",
   "execution_count": 1,
   "metadata": {},
   "outputs": [],
   "source": [
    "import json\n",
    "import pandas as pd\n",
    "import time\n"
   ]
  },
  {
   "cell_type": "code",
   "execution_count": 11,
   "metadata": {},
   "outputs": [],
   "source": [
    "\n",
    "\n",
    "# Load the CSV file into a Pandas DataFrame\n",
    "df = pd.read_csv(\"E:\\SNCS\\SNCS_Data\\ProcessedData\\order1M.csv\")\n",
    "\n",
    "# Record the start time for performance measurement\n",
    "start_time = time.perf_counter()\n",
    "\n",
    "# Set the threshold for free delivery\n",
    "threshold = 200000\n",
    "\n",
    "# Initialize a list to store free delivery status for each order\n",
    "free_delivery = 0\n",
    "paid_delivery = 0\n",
    "\n",
    "# Loop through each row in the DataFrame to check if free delivery is applicable\n",
    "for i in range(df.shape[0]):\n",
    "    if df.iloc[i, 2] >= threshold:\n",
    "        free_delivery += 1\n",
    "    else:\n",
    "        paid_delivery += 1\n",
    "\n",
    "\n",
    "\n",
    "# Record the end time and calculate the processing time\n",
    "end_time = time.perf_counter()\n",
    "processing_time = end_time - start_time\n",
    "\n",
    "# Load existing log data from a JSON file\n",
    "with open(\"log.json\") as file:\n",
    "    data = json.load(file)\n",
    "\n",
    "# Add the processing time for the naive approach to the log data\n",
    "data[\"1M - naiveTime\"] = processing_time\n",
    "\n",
    "# Save the updated log data to the JSON file\n",
    "with open(\"log.json\", 'w') as file:\n",
    "    json.dump(data, file)\n",
    "\n",
    "print(\"1M - naive\")\n",
    "print(\"free delivery: {}\\n paid delivery: {}\".format(free_delivery, paid_delivery))"
   ]
  },
  {
   "cell_type": "code",
   "execution_count": null,
   "metadata": {},
   "outputs": [
    {
     "name": "stdout",
     "output_type": "stream",
     "text": [
      "free delivery: 1500317\n",
      " paid delivery: 3499683\n"
     ]
    }
   ],
   "source": [
    "\n",
    "\n",
    "# Load the CSV file into a Pandas DataFrame\n",
    "df = pd.read_csv(\"E:\\SNCS\\SNCS_Data\\ProcessedData\\order5M.csv\")\n",
    "\n",
    "# Record the start time for performance measurement\n",
    "start_time = time.perf_counter()\n",
    "\n",
    "# Set the threshold for free delivery\n",
    "threshold = 200000\n",
    "\n",
    "# Initialize a list to store free delivery status for each order\n",
    "free_delivery = 0\n",
    "paid_delivery = 0\n",
    "\n",
    "# Loop through each row in the DataFrame to check if free delivery is applicable\n",
    "for i in range(df.shape[0]):\n",
    "    if df.iloc[i, 2] >= threshold:\n",
    "        free_delivery += 1\n",
    "    else:\n",
    "        paid_delivery += 1\n",
    "\n",
    "\n",
    "\n",
    "# Record the end time and calculate the processing time\n",
    "end_time = time.perf_counter()\n",
    "processing_time = end_time - start_time\n",
    "\n",
    "# Load existing log data from a JSON file\n",
    "with open(\"log.json\") as file:\n",
    "    data = json.load(file)\n",
    "\n",
    "# Add the processing time for the naive approach to the log data\n",
    "data[\"5M - naiveTime\"] = processing_time\n",
    "\n",
    "# Save the updated log data to the JSON file\n",
    "with open(\"log.json\", 'w') as file:\n",
    "    json.dump(data, file)\n",
    "\n",
    "print(\"5M - naive\")\n",
    "print(\"free delivery: {}\\n paid delivery: {}\".format(free_delivery, paid_delivery))"
   ]
  },
  {
   "cell_type": "code",
   "execution_count": null,
   "metadata": {},
   "outputs": [
    {
     "name": "stderr",
     "output_type": "stream",
     "text": [
      "C:\\Users\\umesh\\AppData\\Local\\Temp\\ipykernel_10772\\3132475425.py:6: DtypeWarning: Columns (0,1,3) have mixed types. Specify dtype option on import or set low_memory=False.\n",
      "  df = pd.read_csv(\"E:\\SNCS\\SNCS_Data\\ProcessedData\\order10M.csv\")\n"
     ]
    },
    {
     "name": "stdout",
     "output_type": "stream",
     "text": [
      "free delivery: 2393925\n",
      " paid delivery: 7606075\n"
     ]
    }
   ],
   "source": [
    "\n",
    "\n",
    "# Load the CSV file into a Pandas DataFrame\n",
    "df = pd.read_csv(\"E:\\SNCS\\SNCS_Data\\ProcessedData\\order10M.csv\")\n",
    "\n",
    "# Record the start time for performance measurement\n",
    "start_time = time.perf_counter()\n",
    "\n",
    "# Set the threshold for free delivery\n",
    "threshold = 200000\n",
    "\n",
    "# Initialize a list to store free delivery status for each order\n",
    "free_delivery = 0\n",
    "paid_delivery = 0\n",
    "\n",
    "# Loop through each row in the DataFrame to check if free delivery is applicable\n",
    "for i in range(df.shape[0]):\n",
    "    if df.iloc[i, 2] >= threshold:\n",
    "        free_delivery += 1\n",
    "    else:\n",
    "        paid_delivery += 1\n",
    "\n",
    "\n",
    "\n",
    "# Record the end time and calculate the processing time\n",
    "end_time = time.perf_counter()\n",
    "processing_time = end_time - start_time\n",
    "\n",
    "# Load existing log data from a JSON file\n",
    "with open(\"log.json\") as file:\n",
    "    data = json.load(file)\n",
    "\n",
    "# Add the processing time for the naive approach to the log data\n",
    "data[\"10M - naiveTime\"] = processing_time\n",
    "\n",
    "# Save the updated log data to the JSON file\n",
    "with open(\"log.json\", 'w') as file:\n",
    "    json.dump(data, file)\n",
    "\n",
    "print(\"10M - naive\")\n",
    "print(\"free delivery: {}\\n paid delivery: {}\".format(free_delivery, paid_delivery))"
   ]
  }
 ],
 "metadata": {
  "kernelspec": {
   "display_name": "Python 3",
   "language": "python",
   "name": "python3"
  },
  "language_info": {
   "codemirror_mode": {
    "name": "ipython",
    "version": 3
   },
   "file_extension": ".py",
   "mimetype": "text/x-python",
   "name": "python",
   "nbconvert_exporter": "python",
   "pygments_lexer": "ipython3",
   "version": "3.11.9"
  }
 },
 "nbformat": 4,
 "nbformat_minor": 2
}
