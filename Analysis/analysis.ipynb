{
 "cells": [
  {
   "cell_type": "code",
   "execution_count": 38,
   "metadata": {},
   "outputs": [],
   "source": [
    "data = []"
   ]
  },
  {
   "cell_type": "code",
   "execution_count": 43,
   "metadata": {},
   "outputs": [
    {
     "name": "stdout",
     "output_type": "stream",
     "text": [
      "   o_orderkey  o_custkey  o_totalprice o_orderdate o_freedelivery\n",
      "0        3271       2215     126788.55  01-01-1992             no\n",
      "1        5607       6100      41138.16  01-01-1992             no\n",
      "2       20742       9166     115598.29  01-01-1992             no\n",
      "3       23010       6107     111835.79  01-01-1992             no\n",
      "4       27015        734      28070.69  01-01-1992             no\n"
     ]
    }
   ],
   "source": [
    "import pandas as pd\n",
    "\n",
    "df = pd.read_csv(\"C:\\\\Users\\\\acer\\\\Dropbox\\\\Research_Lab\\\\Free_delivery_system\\\\Rewards\\\\ChainRewards\\\\chainReward100k.csv\")\n",
    "print(df.head())\n",
    "\n",
    "insights = {\"type\": \"chain\"}\n",
    "total_free = 0\n",
    "count_tx = 0\n",
    "for index in range(df.shape[0]):\n",
    "    if df.iloc[index][\"o_freedelivery\"] == \"yes\":\n",
    "        total_free += 1\n",
    "    count_tx += 1\n",
    "\n",
    "insights[count_tx] = total_free"
   ]
  },
  {
   "cell_type": "code",
   "execution_count": null,
   "metadata": {},
   "outputs": [],
   "source": [
    "\n"
   ]
  },
  {
   "cell_type": "code",
   "execution_count": 44,
   "metadata": {},
   "outputs": [
    {
     "name": "stdout",
     "output_type": "stream",
     "text": [
      "{'type': 'chain', 100000: 45131}\n",
      "[{'type': 'chain', 10000: 4315}, {'type': 'chain', 50000: 22439}, {'type': 'chain', 100000: 45131}]\n"
     ]
    }
   ],
   "source": [
    "print(insights)\n",
    "data.append(insights)\n",
    "print(data)"
   ]
  },
  {
   "cell_type": "code",
   "execution_count": null,
   "metadata": {},
   "outputs": [],
   "source": [
    "import json"
   ]
  },
  {
   "cell_type": "code",
   "execution_count": null,
   "metadata": {},
   "outputs": [],
   "source": [
    "with open(\"insights.json\", \"a\") as naivefile:\n",
    "    json.dump(data, naivefile)"
   ]
  }
 ],
 "metadata": {
  "kernelspec": {
   "display_name": "Python 3",
   "language": "python",
   "name": "python3"
  },
  "language_info": {
   "codemirror_mode": {
    "name": "ipython",
    "version": 3
   },
   "file_extension": ".py",
   "mimetype": "text/x-python",
   "name": "python",
   "nbconvert_exporter": "python",
   "pygments_lexer": "ipython3",
   "version": "3.11.6"
  }
 },
 "nbformat": 4,
 "nbformat_minor": 2
}
